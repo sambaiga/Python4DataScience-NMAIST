{
 "cells": [
  {
   "cell_type": "markdown",
   "metadata": {
    "deletable": true,
    "editable": true
   },
   "source": [
    "# Introduction to Python Statements\n",
    "\n",
    "In this lecture we will be doing a quick overview of Python Statements. This lecture will emphasize differences between Python and other languages such as C++.\n",
    "There are two reasons we take this approach for learning the context of Python Statements:\n",
    "\n",
    "1. If you are coming from a different language this will rapidly accelerate your understanding of Python.\n",
    "2. Learning about statements will allow you to be able to read other languages more easily in the future.\n",
    "\n",
    "## Python vs Other Languages\n",
    "\n",
    "Let's create a simple statement that says: \"If a is greater than b, assign 2 to a and 4 to b\"\n",
    "Take a look at these two if statements (we will learn about building out if statements soon).\n",
    "\n",
    "** Version 1 (Other Languages)**\n",
    "\n",
    "```c++\n",
    "if (a>b){\n",
    "    a = 2;\n",
    "    b = 4;\n",
    "}\n",
    "```\n",
    "\n",
    "** Version 2 (Python)\n",
    "```python\n",
    "if a>b:\n",
    "    a = 2\n",
    "    b = 4\n",
    "```\n",
    "\n",
    "### Indentation\n",
    "\n",
    "It is important to keep a good understanding of how indentation works in Python to maintain the structure and order of your code. We will touch on this topic again when we start building out functions!\n",
    "\n",
    "\n",
    "# Control Flow Statements¶\n",
    "\n",
    "## if,elif,else Statements¶\n",
    "\n",
    "if Statements in Python allows us to tell the computer to perform alternative actions based on a certain set of results.\n",
    "Verbally, we can imagine we are telling the computer:\n",
    "\"Hey if this case happens, perform some action\"\n",
    "We can then expand the idea further with elif and else statements, which allow us to tell the computer:\n",
    "\"Hey if this case happens, perform some action. Else if another case happens, perform some other action. Else-- none of the above cases happened, perform this action\"\n",
    "Let's go ahead and look at the syntax format for if statements to get a better idea of this:\n"
   ]
  },
  {
   "cell_type": "markdown",
   "metadata": {
    "deletable": true,
    "editable": true
   },
   "source": [
    "### if\n",
    "```python\n",
    " if some_condition:\n",
    "    algorithm\n",
    "```    \n",
    "  "
   ]
  },
  {
   "cell_type": "code",
   "execution_count": null,
   "metadata": {
    "collapsed": false,
    "deletable": true,
    "editable": true
   },
   "outputs": [],
   "source": [
    "x = 12\n",
    "if x >10:\n",
    "    print (\"%s is greater than 10.\"%x)"
   ]
  },
  {
   "cell_type": "markdown",
   "metadata": {
    "deletable": true,
    "editable": true
   },
   "source": [
    "### If-else\n",
    "```python\n",
    "   if some_condition:\n",
    "       algorithm\n",
    "   else:\n",
    "      algorithm\n",
    "```"
   ]
  },
  {
   "cell_type": "code",
   "execution_count": null,
   "metadata": {
    "collapsed": false,
    "deletable": true,
    "editable": true
   },
   "outputs": [],
   "source": [
    "x = 9\n",
    "if x > 10:\n",
    "    print (\"%s is greater than 10.\"%x)\n",
    "else:\n",
    "    print (\"%s is less than 10.\"%x)"
   ]
  },
  {
   "cell_type": "markdown",
   "metadata": {
    "deletable": true,
    "editable": true
   },
   "source": [
    "### if-elif\n",
    "```python\n",
    "   if some_condition:\n",
    "      algorithm\n",
    "   elif some_condition:\n",
    "      algorithm\n",
    "   else:\n",
    "     algorithm\n",
    "```"
   ]
  },
  {
   "cell_type": "code",
   "execution_count": null,
   "metadata": {
    "collapsed": false,
    "deletable": true,
    "editable": true
   },
   "outputs": [],
   "source": [
    "x = 10\n",
    "y = 12\n",
    "if x > y:\n",
    "    print (\"x>y\")\n",
    "elif x < y:\n",
    "    print (\"x<y\")\n",
    "else:\n",
    "    print (\"x=y\")"
   ]
  },
  {
   "cell_type": "markdown",
   "metadata": {
    "deletable": true,
    "editable": true
   },
   "source": [
    "if statement inside a if statement or if-elif or if-else are called as nested if statements."
   ]
  },
  {
   "cell_type": "code",
   "execution_count": null,
   "metadata": {
    "collapsed": false,
    "deletable": true,
    "editable": true
   },
   "outputs": [],
   "source": [
    "user_name = \"sambaiga\"\n",
    "password = \"sa1234\"\n",
    "if user_name==\"sambaiga\":\n",
    "    print(\"Hello \",user_name)\n",
    "    if password !=\"sa1234\":\n",
    "        print(\"Wrong password\")\n",
    "    else:\n",
    "        print(\"Access granted\")"
   ]
  },
  {
   "cell_type": "markdown",
   "metadata": {
    "deletable": true,
    "editable": true
   },
   "source": [
    "Remember that the elif and else parts are optional. A minimal valid if statement is:"
   ]
  },
  {
   "cell_type": "code",
   "execution_count": null,
   "metadata": {
    "collapsed": false,
    "deletable": true,
    "editable": true
   },
   "outputs": [],
   "source": [
    "if True:\n",
    "    print('Yes, it is true')"
   ]
  },
  {
   "cell_type": "markdown",
   "metadata": {
    "deletable": true,
    "editable": true
   },
   "source": [
    "## For Loops\n",
    "\n",
    "A for loop acts as an iterator in Python, it goes through items that are in a sequence or any other iterable item. \n",
    "\n",
    "```python\n",
    "   for variable in something:\n",
    "       algorithm\n",
    "```"
   ]
  },
  {
   "cell_type": "code",
   "execution_count": null,
   "metadata": {
    "collapsed": false,
    "deletable": true,
    "editable": true
   },
   "outputs": [],
   "source": [
    "for i in range(5):\n",
    "    print (i)"
   ]
  },
  {
   "cell_type": "code",
   "execution_count": null,
   "metadata": {
    "collapsed": false
   },
   "outputs": [],
   "source": [
    "for x in range(0, 5):\n",
    "    print (x)"
   ]
  },
  {
   "cell_type": "markdown",
   "metadata": {
    "deletable": true,
    "editable": true
   },
   "source": [
    "**Note** \n",
    "\n",
    "**range( )** function outputs the integers of the specified range. It can also be used to generate a series by specifying the difference between the two numbers within a particular range. The elements are returned in a list."
   ]
  },
  {
   "cell_type": "code",
   "execution_count": null,
   "metadata": {
    "collapsed": false
   },
   "outputs": [],
   "source": [
    "for num in range(10):\n",
    "    if num % 2 == 0:\n",
    "        print (num)\n",
    "        \n",
    "    else:\n",
    "        print ('Odd number')"
   ]
  },
  {
   "cell_type": "markdown",
   "metadata": {},
   "source": [
    "Another common idea during a for loop is keeping some sort of running tally during the multiple loops. For example, lets create a for loop that sums up the list of number from 0 to 9:"
   ]
  },
  {
   "cell_type": "code",
   "execution_count": null,
   "metadata": {
    "collapsed": false
   },
   "outputs": [],
   "source": [
    "num_sum = 0\n",
    "for num in range(10):\n",
    "    num_sum +=num\n",
    "    \n",
    "print(num_sum)    "
   ]
  },
  {
   "cell_type": "markdown",
   "metadata": {
    "deletable": true,
    "editable": true
   },
   "source": [
    "## While¶Loop\n",
    "\n",
    "The while statement in Python is one of most general ways to perform iteration. A while statement will repeatedly execute a single statement or group of statements as long as the condition is true. The reason it is called a 'loop' is because the code statements are looped through over and over again until the condition is no longer met.\n",
    "\n",
    "```python\n",
    "while some_condition:\n",
    "      algorithm\n",
    "      \n",
    "else:\n",
    "    final code statements      \n",
    "```"
   ]
  },
  {
   "cell_type": "code",
   "execution_count": null,
   "metadata": {
    "collapsed": false,
    "deletable": true,
    "editable": true
   },
   "outputs": [],
   "source": [
    "i = 1\n",
    "while i < 10:\n",
    "    print(\"The square root of %d\" %i, \"is %d\" %i**2)\n",
    "    i = i+1\n",
    "print('Bye')"
   ]
  },
  {
   "cell_type": "markdown",
   "metadata": {},
   "source": [
    "Lets see how we could add an else statement:"
   ]
  },
  {
   "cell_type": "code",
   "execution_count": null,
   "metadata": {
    "collapsed": false
   },
   "outputs": [],
   "source": [
    "\n",
    "x = 0\n",
    "\n",
    "while x < 5:\n",
    "    print ('x is currently: ',x)\n",
    "    print (' x is still less than 5, adding 1 to x')\n",
    "    x+=1\n",
    "    \n",
    "else:\n",
    "    print ('All Done!')"
   ]
  },
  {
   "cell_type": "markdown",
   "metadata": {
    "deletable": true,
    "editable": true
   },
   "source": [
    "### **break, continue** and **pass** statements\n",
    "\n",
    "We can use break, continue, and pass statements in our loops to add additional functionality for various cases. The three statements are defined by:\n",
    "\n",
    ">break: Breaks out of the current closest enclosing loop.\n",
    "\n",
    ">continue: Goes to the top of the closest enclosing loop.\n",
    "\n",
    ">pass: Does nothing at all. It can be used when a statement is required syntactically but the program requires no action."
   ]
  },
  {
   "cell_type": "markdown",
   "metadata": {},
   "source": [
    "Thinking about break and continue statements, the general format of the while loop looks like this:\n",
    "\n",
    "```python\n",
    "while test: \n",
    "    code statement\n",
    "    if test: \n",
    "        break\n",
    "    if test: \n",
    "        continue \n",
    "else:\n",
    "```\n",
    "\n",
    "break and continue statements can appear anywhere inside the loop’s body,but we will usually put them further nested in conjunction with an if statement to perform an action based on some condition.\n",
    "Lets go ahead and look at some examples!"
   ]
  },
  {
   "cell_type": "code",
   "execution_count": null,
   "metadata": {
    "collapsed": false,
    "deletable": true,
    "editable": true
   },
   "outputs": [],
   "source": [
    "for i in range(100):\n",
    "    print(i) \n",
    "    if i>=10:\n",
    "        break"
   ]
  },
  {
   "cell_type": "code",
   "execution_count": null,
   "metadata": {
    "collapsed": false,
    "deletable": true,
    "editable": true
   },
   "outputs": [],
   "source": [
    "for i in range(10):\n",
    "    if i>4:\n",
    "        print (\"The end.\")\n",
    "        continue\n",
    "    elif i<7:\n",
    "        print (i)"
   ]
  },
  {
   "cell_type": "code",
   "execution_count": null,
   "metadata": {
    "collapsed": false
   },
   "outputs": [],
   "source": [
    "x = 0\n",
    "while x < 10:\n",
    "    x += 1\n",
    "    if x == 3:\n",
    "        continue\n",
    "    if x == 9:\n",
    "        break\n",
    "    else:\n",
    "        print (x)\n"
   ]
  },
  {
   "cell_type": "markdown",
   "metadata": {},
   "source": [
    "##### A word of caution however! It is possible to create an infinitely running loop with while statements. For example:"
   ]
  },
  {
   "cell_type": "code",
   "execution_count": null,
   "metadata": {
    "collapsed": true
   },
   "outputs": [],
   "source": [
    "## DO NOT RUN THIS CODE!!!! \n",
    "while True:\n",
    "    print 'Uh Oh infinite Loop!'"
   ]
  },
  {
   "cell_type": "markdown",
   "metadata": {
    "deletable": true,
    "editable": true
   },
   "source": [
    "# Exercise\n",
    "\n",
    "1. Write a Python function that takes a number as a parameter and check the number is prime or not\n",
    "\n"
   ]
  },
  {
   "cell_type": "code",
   "execution_count": null,
   "metadata": {
    "collapsed": true
   },
   "outputs": [],
   "source": []
  }
 ],
 "metadata": {
  "anaconda-cloud": {},
  "kernelspec": {
   "display_name": "Python 3",
   "language": "python",
   "name": "python3"
  },
  "language_info": {
   "codemirror_mode": {
    "name": "ipython",
    "version": 3
   },
   "file_extension": ".py",
   "mimetype": "text/x-python",
   "name": "python",
   "nbconvert_exporter": "python",
   "pygments_lexer": "ipython3",
   "version": "3.6.0"
  }
 },
 "nbformat": 4,
 "nbformat_minor": 0
}
