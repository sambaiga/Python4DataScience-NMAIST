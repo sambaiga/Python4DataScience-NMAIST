{
 "cells": [
  {
   "cell_type": "markdown",
   "metadata": {},
   "source": [
    "# Linear Algebra for Machine Learning\n"
   ]
  },
  {
   "cell_type": "code",
   "execution_count": 10,
   "metadata": {
    "collapsed": true
   },
   "outputs": [],
   "source": [
    "import numpy as np"
   ]
  },
  {
   "cell_type": "markdown",
   "metadata": {},
   "source": [
    "### Element-wise array-array operations\n",
    "\n",
    "When we add, subtract, multiply and divide arrays with each other, the default behaviour is element-wise operations:"
   ]
  },
  {
   "cell_type": "code",
   "execution_count": 33,
   "metadata": {
    "collapsed": true
   },
   "outputs": [],
   "source": [
    "# # Let create an array of  A and B\n",
    "A = np.array([[ 1.,  0., 1.],[ -1.,  1., 0.],[1.,  0.,  -1.]])\n",
    "\n",
    "B = np.array([[2,1,-2], [-2,2,1], [1,-2,2]])"
   ]
  },
  {
   "cell_type": "code",
   "execution_count": 34,
   "metadata": {
    "collapsed": false
   },
   "outputs": [
    {
     "data": {
      "text/plain": [
       "array([[ 3.,  1., -1.],\n",
       "       [-3.,  3.,  1.],\n",
       "       [ 2., -2.,  1.]])"
      ]
     },
     "execution_count": 34,
     "metadata": {},
     "output_type": "execute_result"
    }
   ],
   "source": [
    "A + B"
   ]
  },
  {
   "cell_type": "code",
   "execution_count": 35,
   "metadata": {
    "collapsed": false
   },
   "outputs": [
    {
     "data": {
      "text/plain": [
       "array([[-1., -1.,  3.],\n",
       "       [ 1., -1., -1.],\n",
       "       [ 0.,  2., -3.]])"
      ]
     },
     "execution_count": 35,
     "metadata": {},
     "output_type": "execute_result"
    }
   ],
   "source": [
    "A - B"
   ]
  },
  {
   "cell_type": "code",
   "execution_count": 36,
   "metadata": {
    "collapsed": false
   },
   "outputs": [
    {
     "data": {
      "text/plain": [
       "array([[ 2.,  0., -2.],\n",
       "       [ 2.,  2.,  0.],\n",
       "       [ 1., -0., -2.]])"
      ]
     },
     "execution_count": 36,
     "metadata": {},
     "output_type": "execute_result"
    }
   ],
   "source": [
    "A * B"
   ]
  },
  {
   "cell_type": "markdown",
   "metadata": {},
   "source": [
    "## Multiplying matrices and vectors\n",
    "\n",
    "** Matrices Product:** The matrix product of matrices $\\textbf{A}$ and $\\textbf{B}$ is a third matrix $\\textbf{C}$.\n",
    "\n",
    "** Properties of Matrices products: ** \n",
    "* *Distributive:* $A(B + C) =AB + AC$\n",
    "* *Associative:* $ABC = (AB)C$\n",
    "* The transpose of a matrix product has a simple form $(AB)^T = B^TA$\n",
    "\n",
    "**Note**: Matrix maltiplication is not commutative i.e $AB \\neq BA$\n",
    "\n",
    "** Hadamard product (element-wise product): ** a matrix product containing the product of the individual elements denoted as $A\\odot B$.\n",
    "\n",
    "** Dot product ** between two vectors $x$ and $y$ of the same dimensionality is the matrix product $\\mathbf{x^Ty}$. The dot product between two vectors is commutative i.e $$\\mathbf{x^T y=y^Tx}$$.\n",
    "\n"
   ]
  },
  {
   "cell_type": "markdown",
   "metadata": {},
   "source": [
    "** There are two ways**.\n",
    "We can either use the **np.dot** function, which applies a matrix-matrix, matrix-vector, or inner vector multiplication to its two arguments:"
   ]
  },
  {
   "cell_type": "code",
   "execution_count": 37,
   "metadata": {
    "collapsed": false
   },
   "outputs": [],
   "source": [
    "# Let create a matrix A and B\n",
    "M1 = np.matrix([[ 1.,  0., 1.],[ -1.,  1., 0.], [1.,  0.,  -1.]])\n",
    "\n",
    "M2 = np.matrix([[2,1,-2],[-2,2,1],[1,-2,2]])\n"
   ]
  },
  {
   "cell_type": "code",
   "execution_count": 38,
   "metadata": {
    "collapsed": false
   },
   "outputs": [
    {
     "data": {
      "text/plain": [
       "matrix([[ 3., -1.,  0.],\n",
       "        [-4.,  1.,  3.],\n",
       "        [ 1.,  3., -4.]])"
      ]
     },
     "execution_count": 38,
     "metadata": {},
     "output_type": "execute_result"
    }
   ],
   "source": [
    "# Matrix product:\n",
    "C =  M1* M2\n",
    "C"
   ]
  },
  {
   "cell_type": "code",
   "execution_count": 32,
   "metadata": {
    "collapsed": false
   },
   "outputs": [
    {
     "data": {
      "text/plain": [
       "matrix([[ 3., -1.,  0.],\n",
       "        [-4.,  1.,  3.],\n",
       "        [ 1.,  3., -4.]])"
      ]
     },
     "execution_count": 32,
     "metadata": {},
     "output_type": "execute_result"
    }
   ],
   "source": [
    "# Similary\n",
    "C2 = np.dot(M1,M2)\n",
    "C2"
   ]
  },
  {
   "cell_type": "markdown",
   "metadata": {},
   "source": [
    "It clear that the product of two matrix() is equal to their dot product. However, the product of two array()  is not equal to the matrix product. The product of two array()  is equal to Hadamard product."
   ]
  },
  {
   "cell_type": "code",
   "execution_count": 39,
   "metadata": {
    "collapsed": false
   },
   "outputs": [
    {
     "data": {
      "text/plain": [
       "array([[ 2.,  0., -2.],\n",
       "       [ 2.,  2.,  0.],\n",
       "       [ 1., -0., -2.]])"
      ]
     },
     "execution_count": 39,
     "metadata": {},
     "output_type": "execute_result"
    }
   ],
   "source": [
    "D = A*B\n",
    "D"
   ]
  },
  {
   "cell_type": "markdown",
   "metadata": {},
   "source": [
    "It clear that D is not equal to C. To obtain matrix product from two array we use the dot() function"
   ]
  },
  {
   "cell_type": "code",
   "execution_count": 40,
   "metadata": {
    "collapsed": false
   },
   "outputs": [
    {
     "data": {
      "text/plain": [
       "array([[ 3., -1.,  0.],\n",
       "       [-4.,  1.,  3.],\n",
       "       [ 1.,  3., -4.]])"
      ]
     },
     "execution_count": 40,
     "metadata": {},
     "output_type": "execute_result"
    }
   ],
   "source": [
    "#Use dot product\n",
    "D = np.dot(A,B)\n",
    "D"
   ]
  },
  {
   "cell_type": "markdown",
   "metadata": {},
   "source": [
    "Now D is equal to C"
   ]
  },
  {
   "cell_type": "markdown",
   "metadata": {},
   "source": [
    "### Matrix and vector"
   ]
  },
  {
   "cell_type": "code",
   "execution_count": 42,
   "metadata": {
    "collapsed": false
   },
   "outputs": [
    {
     "data": {
      "text/plain": [
       "matrix([[ 5.5, -2.5,  4.5]])"
      ]
     },
     "execution_count": 42,
     "metadata": {},
     "output_type": "execute_result"
    }
   ],
   "source": [
    "# create a vector v\n",
    "v = np.array([5, 2.5, 0.5])\n",
    "np.dot(M1, v)"
   ]
  },
  {
   "cell_type": "code",
   "execution_count": 43,
   "metadata": {
    "collapsed": false
   },
   "outputs": [
    {
     "data": {
      "text/plain": [
       "31.5"
      ]
     },
     "execution_count": 43,
     "metadata": {},
     "output_type": "execute_result"
    }
   ],
   "source": [
    "np.dot(v, v)"
   ]
  },
  {
   "cell_type": "markdown",
   "metadata": {},
   "source": [
    "## Identity and Inverse Matrices\n",
    "\n",
    "An *identity matrix* is a matrix that does not change any vector when we multiply that vector by that matrix denoted as $I_n \\in  \\mathbb{R}^{n \\times n}$.\n",
    "\n",
    "The matrix inverse of $A$ is denoted as $A^{-1}$, is defined as the matrix such that:\n",
    "$$ \\mathbf{A A^{-1} = I_n} $$\n",
    "\n",
    "**Inverse: np.linalg.inv**\n"
   ]
  },
  {
   "cell_type": "code",
   "execution_count": 53,
   "metadata": {
    "collapsed": false
   },
   "outputs": [
    {
     "data": {
      "text/plain": [
       "matrix([[ 2,  1, -2],\n",
       "        [-2,  2,  1],\n",
       "        [ 1, -2,  2]])"
      ]
     },
     "execution_count": 53,
     "metadata": {},
     "output_type": "execute_result"
    }
   ],
   "source": [
    "M = np.matrix([[2,1,-2],[-2,2,1],[1,-2,2]])\n",
    "M"
   ]
  },
  {
   "cell_type": "code",
   "execution_count": 54,
   "metadata": {
    "collapsed": false
   },
   "outputs": [
    {
     "data": {
      "text/plain": [
       "matrix([[ 0.46153846,  0.15384615,  0.38461538],\n",
       "        [ 0.38461538,  0.46153846,  0.15384615],\n",
       "        [ 0.15384615,  0.38461538,  0.46153846]])"
      ]
     },
     "execution_count": 54,
     "metadata": {},
     "output_type": "execute_result"
    }
   ],
   "source": [
    "np.linalg.inv(M)"
   ]
  },
  {
   "cell_type": "markdown",
   "metadata": {},
   "source": [
    "## Finding Determinant\n",
    "\n",
    "The determinant of a square matrix $\\mathbf{A}$ is often denoted $\\mid\\mathbf{A}\\mid$ and is a quantity often used in linear algebra. "
   ]
  },
  {
   "cell_type": "code",
   "execution_count": 55,
   "metadata": {
    "collapsed": false
   },
   "outputs": [
    {
     "data": {
      "text/plain": [
       "13.0"
      ]
     },
     "execution_count": 55,
     "metadata": {},
     "output_type": "execute_result"
    }
   ],
   "source": [
    "np.linalg.det(M)"
   ]
  },
  {
   "cell_type": "markdown",
   "metadata": {},
   "source": [
    "## Linear Equations\n",
    "\n",
    "A system of linear equations is given as $$ \\mathbf{Ax =b}$$ where $A \\in \\mathbb{R}^{m \\times n}$ is a known matrix, $b \\in \\mathbb{R}^{m}$ is a known vector, and $x \\in \\mathbb{R}^n$ is a\n",
    "vector of unknown variables. We can solve for $\\mathbf{x}$ by following steps:\n",
    "\n",
    "\\begin{align*}\n",
    "Ax &=b \\\\\n",
    "A^{-1} Ax &= A^{-1} b \\\\\n",
    "I_n x &=A^{-1} b \\\\\n",
    "x &=A^{-1} b\n",
    "\\end{align*}\n",
    "\n"
   ]
  },
  {
   "cell_type": "markdown",
   "metadata": {},
   "source": [
    "**For example**, let solve these equations: \n",
    "\n",
    "\\begin{eqnarray*} x + 3y + 5z & = & 10 \\\\\n",
    "                   2x + 5y + z & = & 8  \\\\\n",
    "                   2x + 3y + 8z & = & 3\n",
    " \\end{eqnarray*}"
   ]
  },
  {
   "cell_type": "code",
   "execution_count": 56,
   "metadata": {
    "collapsed": false
   },
   "outputs": [
    {
     "name": "stdout",
     "output_type": "stream",
     "text": [
      "[-9.28  5.16  0.76]\n"
     ]
    }
   ],
   "source": [
    "# In matrix notation: \n",
    "A = np.matrix([[1., 3., 5.],\n",
    "               [2., 5., 1.],\n",
    "               [2., 3., 8.]])\n",
    "\n",
    "b = np.array([10,8,3])\n",
    "\n",
    "#using a matrix inverse\n",
    "\n",
    "x = np.linalg.solve(A, b)\n",
    "print(x)\n"
   ]
  }
 ],
 "metadata": {
  "kernelspec": {
   "display_name": "Python 3",
   "language": "python",
   "name": "python3"
  },
  "language_info": {
   "codemirror_mode": {
    "name": "ipython",
    "version": 3
   },
   "file_extension": ".py",
   "mimetype": "text/x-python",
   "name": "python",
   "nbconvert_exporter": "python",
   "pygments_lexer": "ipython3",
   "version": "3.6.0"
  }
 },
 "nbformat": 4,
 "nbformat_minor": 2
}
