{
 "cells": [
  {
   "cell_type": "markdown",
   "metadata": {},
   "source": [
    "\n",
    "\n",
    "## Numpy Arrays\n",
    "\n",
    "A numpy array is a grid of values, all of the same type, and is indexed by a tuple of nonnegative integers. The number of dimensions is the rank of the array; the shape of an array is a tuple of integers giving the size of the array along each dimension.\n"
   ]
  },
  {
   "cell_type": "markdown",
   "metadata": {},
   "source": [
    "To use numpy need to import the numpy module as follows."
   ]
  },
  {
   "cell_type": "code",
   "execution_count": 1,
   "metadata": {
    "collapsed": true
   },
   "outputs": [],
   "source": [
    "import numpy as np # naming import convention\n"
   ]
  },
  {
   "cell_type": "markdown",
   "metadata": {},
   "source": [
    "## Creating numpy arrays\n",
    "\n",
    "There are a number of ways to initialize new numpy arrays, for example from\n",
    "\n",
    "* a Python list or tuples or\n",
    "* using functions that are dedicated to generating numpy arrays, such as arange, linspace, etc."
   ]
  },
  {
   "cell_type": "markdown",
   "metadata": {},
   "source": [
    "### From lists\n",
    "For example, to create new vector and matrix arrays from Python lists we can use the numpy.array function."
   ]
  },
  {
   "cell_type": "code",
   "execution_count": 2,
   "metadata": {
    "collapsed": false
   },
   "outputs": [
    {
     "data": {
      "text/plain": [
       "array([1, 2, 3, 4])"
      ]
     },
     "execution_count": 2,
     "metadata": {},
     "output_type": "execute_result"
    }
   ],
   "source": [
    "v = np.array([1,2,3,4])\n",
    "v"
   ]
  },
  {
   "cell_type": "code",
   "execution_count": 6,
   "metadata": {
    "collapsed": false
   },
   "outputs": [
    {
     "data": {
      "text/plain": [
       "1"
      ]
     },
     "execution_count": 6,
     "metadata": {},
     "output_type": "execute_result"
    }
   ],
   "source": [
    "# get dimension of an array\n",
    "v.ndim"
   ]
  },
  {
   "cell_type": "code",
   "execution_count": 7,
   "metadata": {
    "collapsed": false
   },
   "outputs": [
    {
     "data": {
      "text/plain": [
       "(4,)"
      ]
     },
     "execution_count": 7,
     "metadata": {},
     "output_type": "execute_result"
    }
   ],
   "source": [
    "#get shape of an array\n",
    "v.shape\n",
    "\n",
    "# or you may use np.shape(v)"
   ]
  },
  {
   "cell_type": "code",
   "execution_count": 3,
   "metadata": {
    "collapsed": false
   },
   "outputs": [
    {
     "data": {
      "text/plain": [
       "array([[1, 2],\n",
       "       [3, 4]])"
      ]
     },
     "execution_count": 3,
     "metadata": {},
     "output_type": "execute_result"
    }
   ],
   "source": [
    "M = np.array([[1, 2], [3, 4]])\n",
    "M"
   ]
  },
  {
   "cell_type": "code",
   "execution_count": 10,
   "metadata": {
    "collapsed": false
   },
   "outputs": [
    {
     "data": {
      "text/plain": [
       "2"
      ]
     },
     "execution_count": 10,
     "metadata": {},
     "output_type": "execute_result"
    }
   ],
   "source": [
    "M.ndim"
   ]
  },
  {
   "cell_type": "code",
   "execution_count": 13,
   "metadata": {
    "collapsed": false
   },
   "outputs": [],
   "source": [
    "T = np.array([[[1,2,4, -1],\n",
    "              [-2,0,0, 2],\n",
    "             [-3,0,2, 3]]])"
   ]
  },
  {
   "cell_type": "code",
   "execution_count": 14,
   "metadata": {
    "collapsed": false
   },
   "outputs": [
    {
     "data": {
      "text/plain": [
       "3"
      ]
     },
     "execution_count": 14,
     "metadata": {},
     "output_type": "execute_result"
    }
   ],
   "source": [
    "T.ndim"
   ]
  },
  {
   "cell_type": "code",
   "execution_count": 16,
   "metadata": {
    "collapsed": false
   },
   "outputs": [
    {
     "data": {
      "text/plain": [
       "(1, 3, 4)"
      ]
     },
     "execution_count": 16,
     "metadata": {},
     "output_type": "execute_result"
    }
   ],
   "source": [
    "T.shape"
   ]
  },
  {
   "cell_type": "code",
   "execution_count": 12,
   "metadata": {
    "collapsed": false
   },
   "outputs": [
    {
     "data": {
      "text/plain": [
       "array([[[ 1,  2,  4],\n",
       "        [-2,  0,  0],\n",
       "        [-3,  0,  2]]])"
      ]
     },
     "execution_count": 12,
     "metadata": {},
     "output_type": "execute_result"
    }
   ],
   "source": [
    "T"
   ]
  },
  {
   "cell_type": "markdown",
   "metadata": {},
   "source": [
    "The v,  M, and T objects are both of the type ndarray that the numpy module provides.The difference between them is only their shapes and dimensions."
   ]
  },
  {
   "cell_type": "markdown",
   "metadata": {},
   "source": [
    "Equivalently, we can get information about the size of the two ndarrays, namely the total number of elements in the array."
   ]
  },
  {
   "cell_type": "code",
   "execution_count": 17,
   "metadata": {
    "collapsed": false
   },
   "outputs": [
    {
     "data": {
      "text/plain": [
       "4"
      ]
     },
     "execution_count": 17,
     "metadata": {},
     "output_type": "execute_result"
    }
   ],
   "source": [
    "M.size"
   ]
  },
  {
   "cell_type": "code",
   "execution_count": 18,
   "metadata": {
    "collapsed": false
   },
   "outputs": [
    {
     "data": {
      "text/plain": [
       "4"
      ]
     },
     "execution_count": 18,
     "metadata": {},
     "output_type": "execute_result"
    }
   ],
   "source": [
    "v.size"
   ]
  },
  {
   "cell_type": "code",
   "execution_count": 19,
   "metadata": {
    "collapsed": false
   },
   "outputs": [
    {
     "data": {
      "text/plain": [
       "12"
      ]
     },
     "execution_count": 19,
     "metadata": {},
     "output_type": "execute_result"
    }
   ],
   "source": [
    "T.size"
   ]
  },
  {
   "cell_type": "markdown",
   "metadata": {},
   "source": [
    "Similary we can use python list to create numpy matrix"
   ]
  },
  {
   "cell_type": "code",
   "execution_count": 20,
   "metadata": {
    "collapsed": false
   },
   "outputs": [
    {
     "data": {
      "text/plain": [
       "matrix([[ 0,  2,  4],\n",
       "        [ 1,  5, -2],\n",
       "        [ 1,  0,  1]])"
      ]
     },
     "execution_count": 20,
     "metadata": {},
     "output_type": "execute_result"
    }
   ],
   "source": [
    "c = np.matrix([[0,2,4],\n",
    "               [1,5,-2],\n",
    "               [1,0,1]])\n",
    "c"
   ]
  },
  {
   "cell_type": "markdown",
   "metadata": {},
   "source": [
    "## Note: \n",
    "Numpy matrices are strictly 2-dimensional, while numpy arrays (ndarrays) are N-dimensional.\n",
    "The main advantage of numpy matrices is that they provide a convenient notation for matrix multiplication: if a and b are matrices, then a*b is their matrix product."
   ]
  },
  {
   "cell_type": "markdown",
   "metadata": {},
   "source": [
    "### Using array-generating functions\n",
    "\n",
    "For larger arrays it is inpractical to initialize the data manually, using explicit python lists.\n",
    "Instead we can use one of the many functions in numpy that generates arrays of different forms.\n",
    "\n",
    "Some of the more common are:\n",
    "\n",
    "* np.arange;\n",
    "* np.linspace;\n",
    "* np.logspace;\n",
    "* np.diag;\n",
    "* np.zeros;\n",
    "* np.ones;\n",
    "* np.empty;\n"
   ]
  },
  {
   "cell_type": "markdown",
   "metadata": {},
   "source": [
    "#### np.arange"
   ]
  },
  {
   "cell_type": "code",
   "execution_count": null,
   "metadata": {
    "collapsed": false
   },
   "outputs": [],
   "source": [
    "#Evenly spaced array (arange)\n",
    "a = np.arange(10) # 0 .. n-1  (!)\n",
    "a"
   ]
  },
  {
   "cell_type": "code",
   "execution_count": null,
   "metadata": {
    "collapsed": false
   },
   "outputs": [],
   "source": [
    "b = np.arange(0, 2, 0.5) # start, end (exclusive), step\n",
    "b"
   ]
  },
  {
   "cell_type": "code",
   "execution_count": 25,
   "metadata": {
    "collapsed": false
   },
   "outputs": [
    {
     "data": {
      "text/plain": [
       "array([-1. , -0.9, -0.8, -0.7, -0.6, -0.5, -0.4, -0.3, -0.2, -0.1])"
      ]
     },
     "execution_count": 25,
     "metadata": {},
     "output_type": "execute_result"
    }
   ],
   "source": [
    "np.arange(-1,0,0.1)"
   ]
  },
  {
   "cell_type": "markdown",
   "metadata": {},
   "source": [
    "#### np.linspace and np.logspace"
   ]
  },
  {
   "cell_type": "code",
   "execution_count": null,
   "metadata": {
    "collapsed": false
   },
   "outputs": [],
   "source": [
    "# using linspace, both end points **ARE included**\n",
    "c = np.linspace(0, 1, 10)\n",
    "c"
   ]
  },
  {
   "cell_type": "code",
   "execution_count": null,
   "metadata": {
    "collapsed": false
   },
   "outputs": [],
   "source": [
    "# equally spaced values on a logarithmic scale, use logspace.\n",
    "d = np.logspace(0,1,5) \n",
    "d"
   ]
  },
  {
   "cell_type": "code",
   "execution_count": null,
   "metadata": {
    "collapsed": false
   },
   "outputs": [],
   "source": [
    "np.logspace(0, 4, 5, base=2) # specify the logarithmic base, by default is base 10"
   ]
  },
  {
   "cell_type": "markdown",
   "metadata": {},
   "source": [
    "### Use common array"
   ]
  },
  {
   "cell_type": "code",
   "execution_count": null,
   "metadata": {
    "collapsed": false
   },
   "outputs": [],
   "source": [
    "# Create a 4x4 array with integer zeros\n",
    "a = np.zeros((4, 4))\n",
    "print(a)"
   ]
  },
  {
   "cell_type": "code",
   "execution_count": 21,
   "metadata": {
    "collapsed": false
   },
   "outputs": [
    {
     "name": "stdout",
     "output_type": "stream",
     "text": [
      "[[ 1.  1.  1.  1.]\n",
      " [ 1.  1.  1.  1.]\n",
      " [ 1.  1.  1.  1.]\n",
      " [ 1.  1.  1.  1.]]\n"
     ]
    }
   ],
   "source": [
    "# Create a 4x4 array with integer 1\n",
    "b = np.ones((4, 4))\n",
    "print(b)"
   ]
  },
  {
   "cell_type": "markdown",
   "metadata": {},
   "source": [
    "## Random Number Generation\n",
    "\n",
    "### np.random.rand & np.random.randn\n",
    "\n",
    "It is often useful to create arrays with random numbers that follow a specific distribution. The np.random module contains a number of functions that can be used to this effect."
   ]
  },
  {
   "cell_type": "code",
   "execution_count": null,
   "metadata": {
    "collapsed": false
   },
   "outputs": [],
   "source": [
    "# uniform random numbers in [0,1]\n",
    "np.random.rand(5)"
   ]
  },
  {
   "cell_type": "code",
   "execution_count": null,
   "metadata": {
    "collapsed": false
   },
   "outputs": [],
   "source": [
    "# standard Gaussian distribution  with mean 0 and standard deviation 0.1\n",
    "mu, sigma = 0, 0.1 # mean and standard deviation\n",
    "size=10\n",
    "np.random.normal(mu, sigma, size)"
   ]
  },
  {
   "cell_type": "markdown",
   "metadata": {},
   "source": [
    "### Random seed\n",
    "\n",
    "The seed is for when we want repeatable results"
   ]
  },
  {
   "cell_type": "code",
   "execution_count": 26,
   "metadata": {
    "collapsed": false
   },
   "outputs": [
    {
     "data": {
      "text/plain": [
       "array([ 0.91910903,  0.6421956 ,  0.75371223,  0.13931457,  0.08731955])"
      ]
     },
     "execution_count": 26,
     "metadata": {},
     "output_type": "execute_result"
    }
   ],
   "source": [
    "np.random.seed(77)\n",
    "np.random.rand(5)"
   ]
  },
  {
   "cell_type": "markdown",
   "metadata": {},
   "source": [
    "### Exercise\n",
    "\n",
    "* Create an array [-1. , -0.9, -0.8, -0.7, -0.6, -0.5, -0.4, -0.3, -0.2, -0.1] without typing the values by hand\n",
    "* Generate a NumPy array of 1000 random numbers sampled from a Poisson distribution, with parameter $\\lambda=5$. \n",
    "**Hint use: np.random.poisson(lambda, size)**"
   ]
  },
  {
   "cell_type": "markdown",
   "metadata": {},
   "source": [
    "# Indexing and slicing \n",
    "\n",
    "\n",
    "We can index elements in an array using the square bracket and indices. The items of an array can be accessed and assigned to the same way as other Python sequences (e.g. lists):"
   ]
  },
  {
   "cell_type": "code",
   "execution_count": 31,
   "metadata": {
    "collapsed": false
   },
   "outputs": [
    {
     "name": "stdout",
     "output_type": "stream",
     "text": [
      "[32 29 29 36 30 33 25 34 32 30]\n"
     ]
    }
   ],
   "source": [
    " # Create an array of temp sensor data for seven day\n",
    "np.random.seed(77)\n",
    "tempData = np.random.randint(25,37, size=10)\n",
    "print(tempData)"
   ]
  },
  {
   "cell_type": "code",
   "execution_count": 32,
   "metadata": {
    "collapsed": false
   },
   "outputs": [
    {
     "name": "stdout",
     "output_type": "stream",
     "text": [
      "32\n"
     ]
    }
   ],
   "source": [
    "#print the first sensor data\n",
    "print(tempData[0])"
   ]
  },
  {
   "cell_type": "code",
   "execution_count": 33,
   "metadata": {
    "collapsed": false
   },
   "outputs": [
    {
     "name": "stdout",
     "output_type": "stream",
     "text": [
      "[36 30 33 25]\n"
     ]
    }
   ],
   "source": [
    "#print the sensor data between index 3 and 7\n",
    "print(tempData[3:7])"
   ]
  },
  {
   "cell_type": "markdown",
   "metadata": {},
   "source": [
    "### Note that the last index is not included! :"
   ]
  },
  {
   "cell_type": "code",
   "execution_count": 34,
   "metadata": {
    "collapsed": false
   },
   "outputs": [
    {
     "name": "stdout",
     "output_type": "stream",
     "text": [
      "[34 32 30]\n"
     ]
    }
   ],
   "source": [
    "#print the last three data\n",
    "\n",
    "print(tempData[7:])"
   ]
  },
  {
   "cell_type": "code",
   "execution_count": 35,
   "metadata": {
    "collapsed": false
   },
   "outputs": [
    {
     "name": "stdout",
     "output_type": "stream",
     "text": [
      "[32 29]\n"
     ]
    }
   ],
   "source": [
    "# The first three sensor data\n",
    "print(tempData[:2])"
   ]
  },
  {
   "cell_type": "markdown",
   "metadata": {},
   "source": [
    "## Multidimensional array\n",
    "Multidimensional array behaves like a dataframe or matrix (i.e. columns and rows)"
   ]
  },
  {
   "cell_type": "code",
   "execution_count": 36,
   "metadata": {
    "collapsed": false
   },
   "outputs": [
    {
     "name": "stdout",
     "output_type": "stream",
     "text": [
      "[[32 29 29 36 30 33 25 34 32 30]\n",
      " [28 25 36 31 29 31 29 30 35 32]\n",
      " [29 27 27 35 32 30 31 34 27 34]]\n"
     ]
    }
   ],
   "source": [
    "#Create an array of rtemp sensor  data for three day\n",
    "tempData2 = np.random.randint(25.5,37.5, size=10)\n",
    "tempData3 = np.random.randint(26.5,36.5, size=10)\n",
    "data = np.array([tempData, tempData2, tempData3])\n",
    "print(data)"
   ]
  },
  {
   "cell_type": "code",
   "execution_count": 37,
   "metadata": {
    "collapsed": false
   },
   "outputs": [
    {
     "data": {
      "text/plain": [
       "array([32, 28, 29])"
      ]
     },
     "execution_count": 37,
     "metadata": {},
     "output_type": "execute_result"
    }
   ],
   "source": [
    "# View the first column of the array\n",
    "data[:,0]"
   ]
  },
  {
   "cell_type": "code",
   "execution_count": 39,
   "metadata": {
    "collapsed": false
   },
   "outputs": [
    {
     "data": {
      "text/plain": [
       "array([32, 29, 29, 36, 30, 33, 25, 34, 32, 30])"
      ]
     },
     "execution_count": 39,
     "metadata": {},
     "output_type": "execute_result"
    }
   ],
   "source": [
    "# View the first row of the array\n",
    "data[0,]"
   ]
  },
  {
   "cell_type": "code",
   "execution_count": 40,
   "metadata": {
    "collapsed": false
   },
   "outputs": [
    {
     "data": {
      "text/plain": [
       "array([[32, 29, 29, 36, 30, 33, 25, 34, 32, 30],\n",
       "       [28, 25, 36, 31, 29, 31, 29, 30, 35, 32]])"
      ]
     },
     "execution_count": 40,
     "metadata": {},
     "output_type": "execute_result"
    }
   ],
   "source": [
    "# View the first two row\n",
    "data[:2,]"
   ]
  },
  {
   "cell_type": "code",
   "execution_count": 41,
   "metadata": {
    "collapsed": false
   },
   "outputs": [
    {
     "data": {
      "text/plain": [
       "32"
      ]
     },
     "execution_count": 41,
     "metadata": {},
     "output_type": "execute_result"
    }
   ],
   "source": [
    "#View the first  data\n",
    "data[0,0]"
   ]
  },
  {
   "cell_type": "code",
   "execution_count": 42,
   "metadata": {
    "collapsed": false
   },
   "outputs": [
    {
     "name": "stdout",
     "output_type": "stream",
     "text": [
      "Data type                : int64\n",
      "Total number of elements : 30\n",
      "Number of dimensions     : 2\n",
      "Shape (dimensionality)   : (3, 10)\n",
      "Memory used (in bytes)   : 240\n"
     ]
    }
   ],
   "source": [
    "# Property of this array\n",
    "print('Data type                :', data.dtype)\n",
    "print('Total number of elements :', data.size)\n",
    "print('Number of dimensions     :', data.ndim)\n",
    "print('Shape (dimensionality)   :', data.shape)\n",
    "print('Memory used (in bytes)   :', data.nbytes)"
   ]
  },
  {
   "cell_type": "markdown",
   "metadata": {},
   "source": [
    "## Basic operations and Universal Numpy Functions\n",
    "\n",
    "All numpy arithmetic operates element wise and are much faster than if you did them in pure python.\n",
    "\n",
    "### Scalar-array operations\n"
   ]
  },
  {
   "cell_type": "code",
   "execution_count": 43,
   "metadata": {
    "collapsed": false
   },
   "outputs": [],
   "source": [
    "a = np.array([1, 2, 3, 4])"
   ]
  },
  {
   "cell_type": "code",
   "execution_count": 44,
   "metadata": {
    "collapsed": false
   },
   "outputs": [
    {
     "data": {
      "text/plain": [
       "array([ 3.5,  4.5,  5.5,  6.5])"
      ]
     },
     "execution_count": 44,
     "metadata": {},
     "output_type": "execute_result"
    }
   ],
   "source": [
    "a + 2.5"
   ]
  },
  {
   "cell_type": "code",
   "execution_count": 45,
   "metadata": {
    "collapsed": true
   },
   "outputs": [],
   "source": [
    "b = np.ones(4) + 1"
   ]
  },
  {
   "cell_type": "code",
   "execution_count": 46,
   "metadata": {
    "collapsed": false
   },
   "outputs": [
    {
     "data": {
      "text/plain": [
       "array([ 2.,  2.,  2.,  2.])"
      ]
     },
     "execution_count": 46,
     "metadata": {},
     "output_type": "execute_result"
    }
   ],
   "source": [
    "b"
   ]
  },
  {
   "cell_type": "code",
   "execution_count": 47,
   "metadata": {
    "collapsed": false
   },
   "outputs": [
    {
     "data": {
      "text/plain": [
       "array([-1.,  0.,  1.,  2.])"
      ]
     },
     "execution_count": 47,
     "metadata": {},
     "output_type": "execute_result"
    }
   ],
   "source": [
    "a - b"
   ]
  },
  {
   "cell_type": "markdown",
   "metadata": {},
   "source": [
    "Numpy provides many useful functions for performing computations on arrays; one of the most useful is sum. For more details on numpy function visit [here](https://docs.scipy.org/doc/numpy/reference/routines.math.html)."
   ]
  },
  {
   "cell_type": "code",
   "execution_count": 51,
   "metadata": {
    "collapsed": false
   },
   "outputs": [
    {
     "data": {
      "text/plain": [
       "array([[32, 29, 29, 36, 30, 33, 25, 34, 32, 30],\n",
       "       [28, 25, 36, 31, 29, 31, 29, 30, 35, 32],\n",
       "       [29, 27, 27, 35, 32, 30, 31, 34, 27, 34]])"
      ]
     },
     "execution_count": 51,
     "metadata": {},
     "output_type": "execute_result"
    }
   ],
   "source": [
    "data"
   ]
  },
  {
   "cell_type": "code",
   "execution_count": 52,
   "metadata": {
    "collapsed": false
   },
   "outputs": [
    {
     "data": {
      "text/plain": [
       "922"
      ]
     },
     "execution_count": 52,
     "metadata": {},
     "output_type": "execute_result"
    }
   ],
   "source": [
    "# Compute sum of all elements; \n",
    "np.sum(data)  "
   ]
  },
  {
   "cell_type": "code",
   "execution_count": 53,
   "metadata": {
    "collapsed": false
   },
   "outputs": [
    {
     "data": {
      "text/plain": [
       "array([ 89,  81,  92, 102,  91,  94,  85,  98,  94,  96])"
      ]
     },
     "execution_count": 53,
     "metadata": {},
     "output_type": "execute_result"
    }
   ],
   "source": [
    "# Compute sum of each column; \n",
    "np.sum(data, axis=0)  "
   ]
  },
  {
   "cell_type": "code",
   "execution_count": 54,
   "metadata": {
    "collapsed": false
   },
   "outputs": [
    {
     "data": {
      "text/plain": [
       "array([310, 306, 306])"
      ]
     },
     "execution_count": 54,
     "metadata": {},
     "output_type": "execute_result"
    }
   ],
   "source": [
    "# Compute sum of each row; \n",
    "np.sum(data, axis=1) "
   ]
  },
  {
   "cell_type": "code",
   "execution_count": 63,
   "metadata": {
    "collapsed": false
   },
   "outputs": [
    {
     "data": {
      "text/plain": [
       "array([[-3,  0,  7, -6,  3, -8,  9, -2, -2],\n",
       "       [-3, 11, -5, -2,  2, -2,  1,  5, -3],\n",
       "       [-2,  0,  8, -3, -2,  1,  3, -7,  7]])"
      ]
     },
     "execution_count": 63,
     "metadata": {},
     "output_type": "execute_result"
    }
   ],
   "source": [
    "#Calculate the n-th discrete difference\n",
    "np.diff(data)"
   ]
  },
  {
   "cell_type": "code",
   "execution_count": 55,
   "metadata": {
    "collapsed": false
   },
   "outputs": [
    {
     "data": {
      "text/plain": [
       "30.733333333333334"
      ]
     },
     "execution_count": 55,
     "metadata": {},
     "output_type": "execute_result"
    }
   ],
   "source": [
    "# Computing mean\n",
    "data.mean()"
   ]
  },
  {
   "cell_type": "code",
   "execution_count": 56,
   "metadata": {
    "collapsed": false
   },
   "outputs": [
    {
     "data": {
      "text/plain": [
       "array([[ 5.65685425,  5.38516481,  5.38516481,  6.        ,  5.47722558,\n",
       "         5.74456265,  5.        ,  5.83095189,  5.65685425,  5.47722558],\n",
       "       [ 5.29150262,  5.        ,  6.        ,  5.56776436,  5.38516481,\n",
       "         5.56776436,  5.38516481,  5.47722558,  5.91607978,  5.65685425],\n",
       "       [ 5.38516481,  5.19615242,  5.19615242,  5.91607978,  5.65685425,\n",
       "         5.47722558,  5.56776436,  5.83095189,  5.19615242,  5.83095189]])"
      ]
     },
     "execution_count": 56,
     "metadata": {},
     "output_type": "execute_result"
    }
   ],
   "source": [
    "# square root\n",
    "np.sqrt(data)"
   ]
  },
  {
   "cell_type": "code",
   "execution_count": 57,
   "metadata": {
    "collapsed": false
   },
   "outputs": [
    {
     "data": {
      "text/plain": [
       "36"
      ]
     },
     "execution_count": 57,
     "metadata": {},
     "output_type": "execute_result"
    }
   ],
   "source": [
    "# max \n",
    "data.max()"
   ]
  },
  {
   "cell_type": "code",
   "execution_count": 58,
   "metadata": {
    "collapsed": false
   },
   "outputs": [
    {
     "data": {
      "text/plain": [
       "30.733333333333334"
      ]
     },
     "execution_count": 58,
     "metadata": {},
     "output_type": "execute_result"
    }
   ],
   "source": [
    "data.mean()"
   ]
  },
  {
   "cell_type": "markdown",
   "metadata": {},
   "source": [
    "## Multiplying matrices and vectors\n",
    "\n",
    "** Matrices Product:** The matrix product of matrices $\\textbf{A}$ and $\\textbf{B}$ is a third matrix $\\textbf{C}$.\n",
    "\n",
    "** Properties of Matrices products: ** \n",
    "* *Distributive:* $A(B + C) =AB + AC$\n",
    "* *Associative:* $ABC = (AB)C$\n",
    "* The transpose of a matrix product has a simple form $(AB)^T = B^TA$\n",
    "\n",
    "**Note**: Matrix maltiplication is not commutative i.e $AB \\neq BA$\n",
    "\n",
    "\n",
    "** Dot product ** between two vectors $x$ and $y$ of the same dimensionality is the matrix product $\\mathbf{x^Ty}$. The dot product between two vectors is commutative i.e $$\\mathbf{x^T y=y^Tx}$$.\n",
    "\n",
    "\n",
    "\n",
    "** There are two ways**.\n",
    "We can either use the **np.dot** function, which applies a matrix-matrix, matrix-vector, or inner vector multiplication to its two arguments: OR\n",
    "Use multiplication which applies to matrix-matrix."
   ]
  },
  {
   "cell_type": "code",
   "execution_count": 64,
   "metadata": {
    "collapsed": true
   },
   "outputs": [],
   "source": [
    "# # Let create an array of  A and B\n",
    "A = np.array([[ 1.,  0., 1.],[ -1.,  1., 0.],[1.,  0.,  -1.]])\n",
    "\n",
    "B = np.array([[2,1,-2], [-2,2,1], [1,-2,2]])"
   ]
  },
  {
   "cell_type": "code",
   "execution_count": 65,
   "metadata": {
    "collapsed": false
   },
   "outputs": [
    {
     "data": {
      "text/plain": [
       "array([[ 3., -1.,  0.],\n",
       "       [-4.,  1.,  3.],\n",
       "       [ 1.,  3., -4.]])"
      ]
     },
     "execution_count": 65,
     "metadata": {},
     "output_type": "execute_result"
    }
   ],
   "source": [
    "C = np.dot(A,B)\n",
    "C"
   ]
  },
  {
   "cell_type": "code",
   "execution_count": 66,
   "metadata": {
    "collapsed": false
   },
   "outputs": [
    {
     "data": {
      "text/plain": [
       "array([[ 3., -1.,  0.],\n",
       "       [-4.,  1.,  3.],\n",
       "       [ 1.,  3., -4.]])"
      ]
     },
     "execution_count": 66,
     "metadata": {},
     "output_type": "execute_result"
    }
   ],
   "source": [
    "# Or you can write\n",
    "C = A.dot(B)\n",
    "C"
   ]
  },
  {
   "cell_type": "code",
   "execution_count": 67,
   "metadata": {
    "collapsed": false
   },
   "outputs": [
    {
     "data": {
      "text/plain": [
       "array([ 5.5, -2.5,  4.5])"
      ]
     },
     "execution_count": 67,
     "metadata": {},
     "output_type": "execute_result"
    }
   ],
   "source": [
    "# create a vector v\n",
    "v = np.array([5, 2.5, 0.5])\n",
    "np.dot(A, v)"
   ]
  },
  {
   "cell_type": "markdown",
   "metadata": {},
   "source": [
    "## Identity and Inverse Matrices\n",
    "\n",
    "An *identity matrix* is a matrix that does not change any vector when we multiply that vector by that matrix denoted as $I_n \\in  \\mathbb{R}^{n \\times n}$.\n",
    "\n",
    "The matrix inverse of $A$ is denoted as $A^{-1}$, is defined as the matrix such that:\n",
    "$$ \\mathbf{A A^{-1} = I_n} $$\n",
    "\n",
    "**Inverse: np.linalg.inv**\n"
   ]
  },
  {
   "cell_type": "code",
   "execution_count": 68,
   "metadata": {
    "collapsed": false
   },
   "outputs": [
    {
     "data": {
      "text/plain": [
       "array([[ 0.5,  0. ,  0.5],\n",
       "       [ 0.5,  1. ,  0.5],\n",
       "       [ 0.5,  0. , -0.5]])"
      ]
     },
     "execution_count": 68,
     "metadata": {},
     "output_type": "execute_result"
    }
   ],
   "source": [
    "np.linalg.inv(A)"
   ]
  },
  {
   "cell_type": "markdown",
   "metadata": {},
   "source": [
    "## Finding Determinant\n",
    "\n",
    "The determinant of a square matrix $\\mathbf{A}$ is often denoted $\\mid\\mathbf{A}\\mid$ and is a quantity often used in linear algebra. "
   ]
  },
  {
   "cell_type": "code",
   "execution_count": 69,
   "metadata": {
    "collapsed": false
   },
   "outputs": [
    {
     "data": {
      "text/plain": [
       "-2.0"
      ]
     },
     "execution_count": 69,
     "metadata": {},
     "output_type": "execute_result"
    }
   ],
   "source": [
    "np.linalg.det(A)"
   ]
  },
  {
   "cell_type": "markdown",
   "metadata": {},
   "source": [
    "## Linear Equations\n",
    "\n",
    "A system of linear equations is given as $$ \\mathbf{Ax =b}$$ where $A \\in \\mathbb{R}^{m \\times n}$ is a known matrix, $b \\in \\mathbb{R}^{m}$ is a known vector, and $x \\in \\mathbb{R}^n$ is a\n",
    "vector of unknown variables. We can solve for $\\mathbf{x}$ by following steps:\n",
    "\n",
    "\\begin{align*}\n",
    "Ax &=b \\\\\n",
    "A^{-1} Ax &= A^{-1} b \\\\\n",
    "I_n x &=A^{-1} b \\\\\n",
    "x &=A^{-1} b\n",
    "\\end{align*}\n"
   ]
  },
  {
   "cell_type": "markdown",
   "metadata": {},
   "source": [
    "**For example**, let solve these equations: \n",
    "\n",
    "\\begin{eqnarray*} x + 3y + 5z & = & 10 \\\\\n",
    "                   2x + 5y + z & = & 8  \\\\\n",
    "                   2x + 3y + 8z & = & 3\n",
    " \\end{eqnarray*}"
   ]
  },
  {
   "cell_type": "code",
   "execution_count": 71,
   "metadata": {
    "collapsed": true
   },
   "outputs": [],
   "source": [
    "# In matrix notation: \n",
    "A = np.array([[1., 3., 5.],\n",
    "               [2., 5., 1.],\n",
    "               [2., 3., 8.]])"
   ]
  },
  {
   "cell_type": "code",
   "execution_count": 72,
   "metadata": {
    "collapsed": true
   },
   "outputs": [],
   "source": [
    "b = np.array([10,8,3])"
   ]
  },
  {
   "cell_type": "code",
   "execution_count": 73,
   "metadata": {
    "collapsed": false
   },
   "outputs": [
    {
     "name": "stdout",
     "output_type": "stream",
     "text": [
      "[-9.28  5.16  0.76]\n"
     ]
    }
   ],
   "source": [
    "#using a matrix inverse\n",
    "#x = np.linalg.solve(A, b)\n",
    "x = np.dot(np.linalg.inv(A),b)\n",
    "print(x)"
   ]
  },
  {
   "cell_type": "code",
   "execution_count": 74,
   "metadata": {
    "collapsed": false
   },
   "outputs": [
    {
     "name": "stdout",
     "output_type": "stream",
     "text": [
      "[-9.28  5.16  0.76]\n"
     ]
    }
   ],
   "source": [
    "## Or use \n",
    "x = np.linalg.solve(A, b)\n",
    "print(x)"
   ]
  },
  {
   "cell_type": "markdown",
   "metadata": {},
   "source": [
    "### Numpy Exercise\n",
    "\n",
    "* Generate a matrix with 10 rows and 50 columns, elements being drawn from normal distribution $\\mathcal{N}(1, 10)$. Specify random seed to make the result reproducible.\n",
    "* Normalize the above matrix: subtract from each column its mean and divide by the standard deviation. I suggest np.mean, np.std with axis parameter.\n",
    "* Define function scale which takes a vector of numbers and brings them to the range from 0 to 1:\n",
    "\n",
    "$$ scale(x)=\\frac{x_i - min(x)}{max(x) - min(x)}$$"
   ]
  },
  {
   "cell_type": "code",
   "execution_count": 79,
   "metadata": {
    "collapsed": true
   },
   "outputs": [],
   "source": [
    "np.random.seed(77)\n",
    "mu, sigma = 1, 10 # mean and standard deviation\n",
    "gaussian = np.random.normal(mu, sigma, (50,10))"
   ]
  },
  {
   "cell_type": "code",
   "execution_count": 80,
   "metadata": {
    "collapsed": false
   },
   "outputs": [
    {
     "data": {
      "text/plain": [
       "(50, 10)"
      ]
     },
     "execution_count": 80,
     "metadata": {},
     "output_type": "execute_result"
    }
   ],
   "source": [
    "gaussian.shape"
   ]
  },
  {
   "cell_type": "code",
   "execution_count": 92,
   "metadata": {
    "collapsed": false
   },
   "outputs": [
    {
     "data": {
      "image/png": "[encoded data removed]",
      "text/plain": [
       "<matplotlib.figure.Figure at 0x7f5f940f4f28>"
      ]
     },
     "metadata": {},
     "output_type": "display_data"
    }
   ],
   "source": [
    "plt.hist(gaussian, 5, normed=True);"
   ]
  },
  {
   "cell_type": "code",
   "execution_count": 96,
   "metadata": {
    "collapsed": false
   },
   "outputs": [],
   "source": []
  },
  {
   "cell_type": "code",
   "execution_count": 98,
   "metadata": {
    "collapsed": true
   },
   "outputs": [],
   "source": [
    "def normalize(A):\n",
    "    A = (A - np.mean(A, axis=0)) / np.std(A, axis=0)\n",
    "    return A"
   ]
  },
  {
   "cell_type": "code",
   "execution_count": 99,
   "metadata": {
    "collapsed": false
   },
   "outputs": [],
   "source": [
    "normalize_gaussian = normalize(gaussian)"
   ]
  },
  {
   "cell_type": "code",
   "execution_count": 100,
   "metadata": {
    "collapsed": false
   },
   "outputs": [
    {
     "data": {
      "text/plain": [
       "array([[  2.36140248e-01,   5.25176744e-01,  -4.14723226e-01,\n",
       "          4.72421940e-01,   6.97083956e-01,  -2.17104141e+00,\n",
       "          1.61644569e-01,  -1.86550968e+00,   1.43495160e+00,\n",
       "         -6.36882818e-01],\n",
       "       [  3.10650212e-01,   1.01130084e+00,  -8.99714209e-01,\n",
       "         -9.00933315e-01,  -4.03216464e-01,   1.63399505e+00,\n",
       "         -1.47335691e+00,  -1.68430710e-01,  -1.19917652e-01,\n",
       "         -2.60131519e-02],\n",
       "       [ -6.87233661e-02,  -7.89299907e-01,  -8.54986011e-01,\n",
       "         -3.21555308e-01,  -1.89486893e+00,   1.69979489e+00,\n",
       "         -9.37394168e-01,  -5.85860769e-01,  -8.01207666e-01,\n",
       "          4.63719730e-01],\n",
       "       [ -1.08714702e+00,  -1.63308439e+00,   5.97659536e-01,\n",
       "          2.25801286e-02,  -6.78775369e-01,   1.03461791e+00,\n",
       "          7.98069309e-02,   3.99718800e-01,  -8.82265179e-01,\n",
       "         -1.04114661e+00],\n",
       "       [ -1.67506308e-01,  -1.11351798e+00,   1.03713821e-02,\n",
       "          6.20360913e-01,   1.04180796e+00,  -2.56578128e-01,\n",
       "         -2.86272318e-01,   1.49924241e-01,  -3.10484166e-02,\n",
       "         -1.06499532e+00],\n",
       "       [ -1.54932878e+00,   7.45039724e-01,  -2.68035168e-01,\n",
       "         -5.68635456e-01,   6.58253192e-01,   7.35719348e-01,\n",
       "          1.01015642e+00,  -1.05371847e-01,  -1.38199170e+00,\n",
       "          1.40275321e+00],\n",
       "       [ -8.76195645e-01,  -1.10388309e-02,  -3.78590660e-01,\n",
       "          6.80846341e-01,   3.12710370e+00,   1.60475225e+00,\n",
       "          3.90239859e-01,  -2.70090528e-01,   5.15860940e-01,\n",
       "          3.30787393e-02],\n",
       "       [ -5.68082378e-02,   1.32364485e+00,  -1.77096951e-01,\n",
       "          1.25310277e+00,   4.22559706e-01,  -2.22392052e-01,\n",
       "         -2.70950489e-01,   2.85812292e-01,   1.05182216e-01,\n",
       "         -8.22701512e-01],\n",
       "       [  5.84168629e-01,   1.31034104e+00,   1.17208959e+00,\n",
       "          2.17230518e-01,   1.28956245e+00,  -8.86012362e-01,\n",
       "         -8.51994062e-01,  -1.08375547e+00,  -9.28629853e-01,\n",
       "         -7.57330801e-01],\n",
       "       [  5.84306862e-02,  -2.44915654e-01,  -2.44117555e-01,\n",
       "          6.85841815e-01,   2.23361241e-02,   9.69330154e-01,\n",
       "          1.53821197e+00,  -5.73580098e-01,   1.74086540e+00,\n",
       "         -8.73993293e-02],\n",
       "       [ -4.83260652e-02,   6.38933695e-01,  -1.48289305e+00,\n",
       "         -1.16256518e+00,   1.02263906e-01,  -2.10531741e-01,\n",
       "         -1.95653305e+00,   7.49109242e-01,  -5.46567494e-01,\n",
       "          4.58228194e-01],\n",
       "       [ -4.47073308e-01,   1.09525892e+00,  -6.71984449e-01,\n",
       "         -8.07827258e-01,  -1.69437121e+00,  -1.41119782e-01,\n",
       "          6.71689031e-01,   1.90738679e+00,  -7.78666998e-02,\n",
       "          6.74995892e-01],\n",
       "       [ -7.45390100e-01,   5.46748575e-01,   9.09338440e-01,\n",
       "          3.09122032e-01,  -8.03279565e-01,  -1.29786862e+00,\n",
       "          7.08209015e-01,  -2.12578646e+00,   1.39072973e+00,\n",
       "         -1.55785737e+00],\n",
       "       [  6.74872134e-01,  -2.10211613e+00,   5.03696290e-01,\n",
       "          1.21542246e+00,   1.18612911e+00,   1.76377878e+00,\n",
       "          1.80786655e+00,  -3.67348355e-01,  -1.50197621e+00,\n",
       "         -1.38495185e-01],\n",
       "       [ -1.39886101e+00,   2.51758363e-01,  -1.03477704e+00,\n",
       "         -6.12871033e-01,  -8.68085348e-01,  -4.30152584e-01,\n",
       "         -1.53689039e-01,   4.06479661e-01,   1.42276429e+00,\n",
       "          3.83171693e-01],\n",
       "       [  1.79316130e-01,   1.73631713e-01,   2.14991804e+00,\n",
       "          1.89101002e+00,   3.71358331e-02,   1.93185655e-01,\n",
       "         -2.74606100e-01,   3.41015999e-01,   7.54450320e-02,\n",
       "          1.26097854e+00],\n",
       "       [  1.35258700e-01,   1.91285672e+00,   1.40539148e+00,\n",
       "         -5.17163318e-02,  -4.43381166e-01,   5.28901441e-01,\n",
       "          2.61455161e+00,  -5.09259900e-01,   5.31916839e-01,\n",
       "          1.94365567e+00],\n",
       "       [  7.87706387e-01,  -4.53404221e-02,   1.72823107e-01,\n",
       "         -3.35281668e-01,  -1.36189480e+00,   1.58244283e-02,\n",
       "         -6.81895281e-01,   4.13209508e-01,   2.38093294e-01,\n",
       "         -1.47226108e+00],\n",
       "       [ -4.89221560e-01,   5.20906683e-01,   9.43061917e-01,\n",
       "         -1.20401075e+00,   7.00148628e-01,   3.96675689e-01,\n",
       "         -1.28282548e+00,   1.37483212e-01,  -3.84512173e-01,\n",
       "         -9.88120421e-01],\n",
       "       [ -6.09817587e-01,   5.65219635e-01,  -2.13544314e-01,\n",
       "         -1.46678942e+00,   9.73241223e-01,  -5.20699547e-03,\n",
       "         -1.59093277e+00,  -1.89948618e+00,  -3.46797292e-01,\n",
       "         -4.64186993e-01],\n",
       "       [ -3.12621326e-01,   2.09621595e-01,   2.68276759e-01,\n",
       "         -1.22651241e+00,   4.12734418e-01,   3.63956369e-01,\n",
       "          1.42164928e+00,  -1.89657660e-01,   1.18547539e+00,\n",
       "         -6.77915511e-01],\n",
       "       [ -1.57011870e+00,   5.82856907e-01,  -9.77121412e-01,\n",
       "          9.09820201e-01,  -7.38408457e-01,   4.91647881e-01,\n",
       "          5.05312404e-01,   3.39817069e-01,  -4.35119034e-01,\n",
       "         -1.35634701e+00],\n",
       "       [  3.89108953e-01,  -6.04006288e-01,  -1.28459305e-01,\n",
       "          7.68818605e-01,  -1.83437569e+00,  -6.33288799e-01,\n",
       "          3.52541514e-01,   5.68871360e-01,  -1.43281250e+00,\n",
       "          1.09930810e+00],\n",
       "       [ -1.40431598e-01,   1.88057755e+00,   9.61552218e-01,\n",
       "          9.89530308e-01,   8.57451617e-01,  -1.96401637e+00,\n",
       "          2.08756478e-01,   1.48512966e-01,  -1.86841374e+00,\n",
       "         -7.73390769e-01],\n",
       "       [ -3.90604690e-01,  -6.91234505e-01,  -7.61382828e-01,\n",
       "         -4.82843882e-01,  -1.04914084e+00,   1.68452234e+00,\n",
       "         -9.99577884e-01,  -8.95214838e-01,  -4.17025197e-01,\n",
       "         -4.37685820e-01],\n",
       "       [ -1.66211220e+00,  -4.30349274e-01,  -1.77744943e+00,\n",
       "         -9.27566980e-02,  -3.80827695e-01,   3.34991802e-01,\n",
       "          2.87518950e-02,   1.53697405e+00,  -7.51416800e-01,\n",
       "         -4.13605693e-01],\n",
       "       [  1.80155558e+00,   1.97972532e+00,   4.65752927e-01,\n",
       "          2.64721318e-02,  -3.68204430e-01,  -1.10207618e+00,\n",
       "         -1.00247789e+00,  -9.15982904e-01,  -5.43729810e-01,\n",
       "         -3.25821195e-01],\n",
       "       [ -2.89733698e-01,   4.39523176e-01,  -6.04457489e-01,\n",
       "         -1.33446025e+00,   6.32850751e-01,  -3.88882267e-01,\n",
       "          2.37669176e-01,  -1.35119188e+00,  -1.49837911e+00,\n",
       "         -9.54235181e-01],\n",
       "       [  4.37383184e-01,  -9.34542356e-01,  -2.32064829e-01,\n",
       "          7.62089420e-01,  -5.80109151e-01,  -7.14132403e-01,\n",
       "          1.74154281e-01,   1.33950459e+00,  -5.39077323e-01,\n",
       "          3.30002110e-01],\n",
       "       [  1.98060702e+00,  -1.24565160e+00,   2.30417135e-01,\n",
       "          1.37222697e+00,  -3.69207435e-02,  -5.74457952e-01,\n",
       "         -8.87266393e-01,   4.33245577e-01,   1.15282434e+00,\n",
       "          4.80068681e-01],\n",
       "       [  1.63706981e+00,   3.05315560e-01,   1.20659518e+00,\n",
       "          2.00198643e+00,  -1.71802085e+00,  -1.39899286e+00,\n",
       "         -1.13072877e+00,  -1.22138554e+00,   1.82440271e+00,\n",
       "          1.74323890e-01],\n",
       "       [  9.69415932e-01,   1.02344285e-01,   2.32036209e-01,\n",
       "         -2.29650152e+00,  -8.53856115e-01,  -1.13617719e+00,\n",
       "         -2.16502929e+00,   3.08988816e+00,  -5.36849012e-01,\n",
       "         -1.12779830e+00],\n",
       "       [  4.18425607e-01,  -6.69020490e-02,  -7.90634190e-01,\n",
       "         -4.10212759e-01,   1.33616292e+00,   4.92476088e-01,\n",
       "         -6.17568337e-03,   4.68809327e-01,   1.10019278e-01,\n",
       "         -2.17967093e+00],\n",
       "       [  9.02334387e-01,  -6.65015949e-01,   4.24088212e-01,\n",
       "         -3.00057288e-01,   5.88270917e-01,  -1.78708613e+00,\n",
       "          8.09168436e-01,   9.81310477e-01,  -1.45011616e+00,\n",
       "          5.71157147e-01],\n",
       "       [ -3.32309957e-01,  -2.40842805e-01,  -9.04065106e-01,\n",
       "          2.03710150e-02,  -8.11387315e-01,  -3.61841455e-01,\n",
       "         -2.04180200e-02,   4.60320284e-01,  -3.04284178e-01,\n",
       "         -1.01849555e+00],\n",
       "       [ -4.47763019e-01,  -4.34112023e-01,  -2.01894428e+00,\n",
       "          2.08649713e+00,   5.94064361e-01,   6.10034814e-01,\n",
       "          1.88041717e+00,  -1.30644672e+00,   7.38970731e-01,\n",
       "          2.02735591e+00],\n",
       "       [  1.50859836e+00,  -4.90912343e-01,   8.15577825e-01,\n",
       "         -9.78678838e-01,  -4.60041991e-01,  -9.41875542e-01,\n",
       "         -1.07459875e-01,   3.44131456e-01,   8.40046856e-01,\n",
       "          1.25880087e+00],\n",
       "       [  1.80145370e-01,   1.35391043e+00,  -2.49568223e-01,\n",
       "         -7.25408716e-02,  -1.30430645e+00,  -4.00233349e-01,\n",
       "          1.54743693e+00,  -9.72732151e-01,   2.73016963e-01,\n",
       "          9.15392566e-01],\n",
       "       [ -4.53796674e-01,  -4.99491879e-01,  -7.20114524e-01,\n",
       "          5.53731982e-01,   8.54040066e-01,   1.00371039e+00,\n",
       "         -5.74184983e-01,  -5.60600828e-01,  -1.15345300e+00,\n",
       "          1.17804719e+00],\n",
       "       [  1.11496498e+00,  -1.63127622e-01,   1.10936156e+00,\n",
       "          6.91138605e-01,   1.19171691e+00,   6.29574856e-01,\n",
       "         -1.25056186e+00,  -1.01816375e+00,   9.41664063e-01,\n",
       "         -1.45094117e-01],\n",
       "       [ -1.11572229e+00,  -6.32588731e-01,   2.21726767e+00,\n",
       "         -7.18130191e-01,   7.90006483e-02,  -1.84564947e-01,\n",
       "          8.32727744e-01,   8.84583153e-04,  -1.15352656e+00,\n",
       "          5.98700205e-01],\n",
       "       [  5.61560718e-01,  -1.06143829e+00,  -5.54506160e-01,\n",
       "         -1.02914826e+00,  -3.75280135e-02,  -1.84958513e+00,\n",
       "         -1.57005191e-01,   2.95136360e-01,   1.73739769e+00,\n",
       "          4.46912853e-01],\n",
       "       [  2.65063038e-02,  -4.29878267e-01,   4.81472646e-01,\n",
       "         -1.63799777e-01,   1.62361984e+00,   1.51226013e+00,\n",
       "          3.94802678e-01,  -3.38425949e-01,   2.32629606e+00,\n",
       "          8.96291694e-01],\n",
       "       [ -1.27202601e+00,  -1.17155835e+00,   1.85492091e+00,\n",
       "          1.12422173e+00,  -1.11057641e+00,  -2.74341248e-01,\n",
       "         -8.73198045e-01,   6.78213296e-01,  -4.49192835e-01,\n",
       "         -6.69027464e-01],\n",
       "       [  2.44132207e+00,   1.54007477e+00,  -2.08042366e+00,\n",
       "          4.19231103e-01,   4.22198261e-01,   5.86938051e-01,\n",
       "          1.63491563e-01,   1.66864529e-01,   4.86989880e-01,\n",
       "         -1.18582915e+00],\n",
       "       [ -1.35734759e+00,  -2.49010031e+00,  -1.49974268e+00,\n",
       "         -1.35467539e+00,  -6.12878206e-01,   8.79036139e-01,\n",
       "         -5.88145170e-01,  -5.49156871e-01,  -1.52178214e-01,\n",
       "          6.80907229e-01],\n",
       "       [  2.07997710e+00,   9.01513454e-01,   1.33884182e+00,\n",
       "         -1.79536798e+00,   1.81602671e-01,  -3.60904851e-01,\n",
       "          5.90096481e-01,   1.70990504e+00,  -9.19298042e-01,\n",
       "         -9.26795086e-01],\n",
       "       [ -1.63911297e+00,  -1.07196736e+00,   6.79353723e-01,\n",
       "         -6.45053286e-02,   5.40678081e-01,  -7.93473559e-01,\n",
       "          4.86256862e-01,  -1.88691736e-02,   3.96624466e-01,\n",
       "          1.79860291e+00],\n",
       "       [  5.94392064e-02,  -1.01650125e+00,  -2.71800463e-01,\n",
       "          1.33052914e+00,   6.19885102e-01,   3.54362423e-01,\n",
       "          2.44930586e-01,   1.46939303e-02,   6.54104264e-01,\n",
       "          1.64838343e+00],\n",
       "       [ -9.46857992e-01,   3.63254028e-01,   6.13326169e-02,\n",
       "         -6.72226539e-01,  -1.47447156e-01,   9.66747029e-01,\n",
       "          6.62139271e-01,   1.52508546e+00,   4.84009821e-01,\n",
       "          5.24265909e-01]])"
      ]
     },
     "execution_count": 100,
     "metadata": {},
     "output_type": "execute_result"
    }
   ],
   "source": [
    "plt.hist(normalize_gaussian, 5, normed=True);\n",
    "\n"
   ]
  },
  {
   "cell_type": "code",
   "execution_count": null,
   "metadata": {
    "collapsed": true
   },
   "outputs": [],
   "source": []
  }
 ],
 "metadata": {
  "kernelspec": {
   "display_name": "Python 3",
   "language": "python",
   "name": "python3"
  },
  "language_info": {
   "codemirror_mode": {
    "name": "ipython",
    "version": 3
   },
   "file_extension": ".py",
   "mimetype": "text/x-python",
   "name": "python",
   "nbconvert_exporter": "python",
   "pygments_lexer": "ipython3",
   "version": "3.6.0"
  }
 },
 "nbformat": 4,
 "nbformat_minor": 2
}
