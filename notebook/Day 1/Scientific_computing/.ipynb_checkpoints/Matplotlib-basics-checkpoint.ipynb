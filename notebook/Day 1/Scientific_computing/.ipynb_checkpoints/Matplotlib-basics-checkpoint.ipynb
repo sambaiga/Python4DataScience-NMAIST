{
 "cells": [
  {
   "cell_type": "markdown",
   "metadata": {},
   "source": [
    "## To use matplotlib first import the library"
   ]
  },
  {
   "cell_type": "code",
   "execution_count": null,
   "metadata": {
    "collapsed": true
   },
   "outputs": [],
   "source": [
    "import numpy as np"
   ]
  },
  {
   "cell_type": "markdown",
   "metadata": {},
   "source": [
    "To use the matplotlib functions matplotlib should be imported as import matplotlib,but by importing the matplotlib.pyplot one has access to all MATLB like commands of Pyplot."
   ]
  },
  {
   "cell_type": "code",
   "execution_count": null,
   "metadata": {
    "collapsed": true
   },
   "outputs": [],
   "source": [
    "import matplotlib.pyplot as plt"
   ]
  },
  {
   "cell_type": "markdown",
   "metadata": {},
   "source": [
    "In order to see the resulting plots, matplotlib should be inlined in the first cell of IPython.\n"
   ]
  },
  {
   "cell_type": "code",
   "execution_count": null,
   "metadata": {
    "collapsed": false
   },
   "outputs": [],
   "source": [
    "%matplotlib inline  "
   ]
  },
  {
   "cell_type": "markdown",
   "metadata": {},
   "source": [
    "## Basic Plot\n",
    "\n",
    "**Plot()** command draws the plot, and is a versatile command which accepts arbitrary number of arguments. In order to see the plots **show()** command should be used. \n",
    "\n",
    "One can easily give legend information to the plots by **title()**, **xlabel()**, **ylabel()**\n"
   ]
  },
  {
   "cell_type": "code",
   "execution_count": null,
   "metadata": {
    "collapsed": false
   },
   "outputs": [],
   "source": [
    "# Prepare Data\n",
    "x = np.linspace(0, 1, 100)\n",
    "y = x ** 2"
   ]
  },
  {
   "cell_type": "code",
   "execution_count": null,
   "metadata": {
    "collapsed": false
   },
   "outputs": [],
   "source": [
    "plt.plot(x,y)\n",
    "plt.title(\"simple plot\")\n",
    "plt.xlabel(\"x values\")\n",
    "plt.ylabel(\"y values\")"
   ]
  },
  {
   "cell_type": "markdown",
   "metadata": {},
   "source": [
    "### Controlling line properties and Formatting\n",
    "\n",
    "We can vary the line color or the line symbol of the matlibplot as follows:"
   ]
  },
  {
   "cell_type": "code",
   "execution_count": null,
   "metadata": {
    "collapsed": false
   },
   "outputs": [],
   "source": [
    "plt.plot(x,y, 'r--')  # dotted red line \n",
    "plt.title(\"simple plot\")\n",
    "plt.xlabel(\"x values\")\n",
    "plt.ylabel(\"y values\")"
   ]
  },
  {
   "cell_type": "markdown",
   "metadata": {},
   "source": [
    "**Other options for the color characters are:**\n",
    "\n",
    " * 'r' = red\n",
    " * 'g' = green\n",
    " * 'b' = blue\n",
    " * 'c' = cyan\n",
    " * 'm' = magenta\n",
    " * 'y' = yellow\n",
    " * 'k' = black\n",
    " * 'w' = white\n",
    " \n",
    " \n",
    "** Options for line styles are**\n",
    "\n",
    " * '-' = solid\n",
    " * '--' = dashed\n",
    " * ':' = dotted\n",
    " * '-.' = dot-dashed\n",
    " * '.' = points\n",
    " * 'o' = filled circles\n",
    " * '^' = filled triangles"
   ]
  },
  {
   "cell_type": "markdown",
   "metadata": {},
   "source": [
    "There are other ways to specify the line formats, for example by using keywords such as **linewidth** and **linestyle**, **color** etc as an argument of plot() function."
   ]
  },
  {
   "cell_type": "code",
   "execution_count": null,
   "metadata": {
    "collapsed": false
   },
   "outputs": [],
   "source": [
    "plt.plot(x,y, color=\"green\", linewidth=4.0, linestyle=\"dotted\")  # dotted red line \n",
    "plt.title(\"simple plot\")\n",
    "plt.xlabel(\"x values\")\n",
    "plt.ylabel(\"y values\")"
   ]
  },
  {
   "cell_type": "markdown",
   "metadata": {},
   "source": [
    "## Exercise 2:\n",
    "Change the color of plot above to green, and the linestyle to dashdot."
   ]
  },
  {
   "cell_type": "markdown",
   "metadata": {},
   "source": [
    "### Adding legend\n",
    "\n",
    "Legends help in understanding the plots, they provide label the the  lines on a plot. Adding a legend to a plot only requires adding the keyword argument label (that will be used in the legend box) to the plot commands."
   ]
  },
  {
   "cell_type": "code",
   "execution_count": null,
   "metadata": {
    "collapsed": false
   },
   "outputs": [],
   "source": [
    "x = np.linspace(-np.pi , np.pi, 100)\n",
    "y1 = np.sin(x)\n",
    "y2 = np.cos(x)\n",
    "\n",
    "plt.title(\"Sin and Cos Plot\")\n",
    "plt.xlabel(\"x values\")\n",
    "plt.ylabel(\"y values\")\n",
    "plt.plot(x,y1, color=\"green\", linewidth=4.0, linestyle=\"dotted\", label=\"Sin\")\n",
    "plt.plot(x,y2, '--r', linewidth=4.0, label='cos')\n",
    "plt.legend(loc='upper left', frameon=False) # Try to change frame on = True"
   ]
  },
  {
   "cell_type": "markdown",
   "metadata": {},
   "source": [
    "# Other types of plots"
   ]
  },
  {
   "cell_type": "markdown",
   "metadata": {},
   "source": [
    "## 1.Bar Plots\n",
    "\n",
    "Bar plots are quite often used to analyze statistics.\n",
    "**plt.bar()** is special for plotting bars."
   ]
  },
  {
   "cell_type": "code",
   "execution_count": null,
   "metadata": {
    "collapsed": false
   },
   "outputs": [],
   "source": [
    "#Data\n",
    "x = range(10)\n",
    "y = 20+40*np.random.random(10)\n",
    "\n",
    "plt.bar(x,y, facecolor='#9999ff', edgecolor='white');"
   ]
  },
  {
   "cell_type": "markdown",
   "metadata": {},
   "source": [
    "For a greater range of colors, you have two options. You can specify the color using an html hex string, as in example above or you can pass an R , G , B color."
   ]
  },
  {
   "cell_type": "code",
   "execution_count": null,
   "metadata": {
    "collapsed": false
   },
   "outputs": [],
   "source": [
    "plt.bar(x,y, color= 'g')"
   ]
  },
  {
   "cell_type": "markdown",
   "metadata": {},
   "source": [
    "## Example:\n",
    "We want to plot the perfomance of different programming language as shown in table below:\n",
    "\n",
    "| Language   | Python | C++ | Java | Scala | Ruby | Pascal |\n",
    "|------------|--------|-----|------|-------|------|--------|\n",
    "| Perfomance | 10     | 8   | 6    | 3     | 4    | 1      |"
   ]
  },
  {
   "cell_type": "code",
   "execution_count": null,
   "metadata": {
    "collapsed": false
   },
   "outputs": [],
   "source": [
    "#Data\n",
    "Language = ['Python','C++','Java', 'Scala', 'Ruby', 'Pascal']\n",
    "performance = [10,8,6,3,4,1]\n",
    "postion = np.arange(len(Language))"
   ]
  },
  {
   "cell_type": "code",
   "execution_count": null,
   "metadata": {
    "collapsed": false
   },
   "outputs": [],
   "source": [
    "plt.bar(postion, performance, align='center', color ='g')\n",
    "plt.xticks(postion, Language)\n",
    "plt.ylabel('Usage')\n",
    "plt.title('Programming language usage')"
   ]
  },
  {
   "cell_type": "markdown",
   "metadata": {},
   "source": [
    "## Example:\n",
    "\n",
    "You can also compare two data series using this Matplotlib bar graph: Suppose we want to compare average marks for female and male.\n",
    "\n",
    "| Subject   | Math | Biology |Chemistry |Physics|  \n",
    "|------------|--------|-----|------|-----|\n",
    "| Male | 55    |  70  | 60   | 69 |\n",
    "| Female | 45    | 62  | 78   |51 |"
   ]
  },
  {
   "cell_type": "code",
   "execution_count": null,
   "metadata": {
    "collapsed": true
   },
   "outputs": [],
   "source": [
    "# Data\n",
    "Subject=['Math','Biology','Chemistry','Physics']\n",
    "num_subject = len(Subject)\n",
    "postion = np.arange(num_subject)\n",
    "male_marks =[55,70,60,69]\n",
    "female_marks =[45,65,78,51]"
   ]
  },
  {
   "cell_type": "code",
   "execution_count": null,
   "metadata": {
    "collapsed": false
   },
   "outputs": [],
   "source": [
    "#Plot\n",
    "\n",
    "bar_width = 0.35\n",
    "plt.bar(postion, male_marks, bar_width, color='b',label='Male')\n",
    "plt.bar(postion + bar_width, female_marks, bar_width, color='g',label='Female')\n",
    "plt.xlabel('Subjects')\n",
    "plt.ylabel('Average Scores')\n",
    "plt.title('Average Scores by Gender')\n",
    "plt.xticks(postion+ bar_width, Subject)\n",
    "plt.legend()"
   ]
  },
  {
   "cell_type": "markdown",
   "metadata": {},
   "source": [
    "## 2. Histograms\n",
    "\n",
    "A histogram is a fantastic visualization for getting a feel for the distribution of your data set.\n",
    "\n",
    "To plot histograms, **hist()** command of pyplot can be used which also accepts different styling and formatting.\n",
    "\n",
    "mlab library of matplotlib contains numerical python functions written for compatability with MATLAB commands with the same names. \n",
    "\n",
    "Commands like **normpdf** of this library can be used to draw the best fit norm of the histogram.\n",
    "\n",
    "**Note**: bins is an important parameter for histogram"
   ]
  },
  {
   "cell_type": "markdown",
   "metadata": {},
   "source": [
    "## Example 1"
   ]
  },
  {
   "cell_type": "code",
   "execution_count": null,
   "metadata": {
    "collapsed": false
   },
   "outputs": [],
   "source": [
    "#lot the histogram of a gausian \n",
    "mu, sigma = 50, 10\n",
    "y = np.random.normal(mu,sigma,10000)\n",
    "num_bins = 15\n",
    "n, bins, patches = plt.hist(y, num_bins, facecolor='g')"
   ]
  },
  {
   "cell_type": "markdown",
   "metadata": {},
   "source": [
    "Many things can be added to a histogram such as a fit line, labels and so on. "
   ]
  },
  {
   "cell_type": "markdown",
   "metadata": {
    "collapsed": true
   },
   "source": [
    "## 3. Scatter plot\n",
    "\n",
    "Takes X and Y just like line plot, but does not connect the dots with lines.It is useful to explore data structure as it allows  to visually see the relationship should one exist, between the two variables.\n",
    "\n",
    "**scatter()** makes a scatter plot of x vs y, where x and y are sequence like objects of the same lengths.\n",
    "x, y : array of n numbers Input data:\n",
    "\n",
    "**s **: size in points^2. , scalar or array of n numbers, optional, default: 20\n",
    "\n",
    "**c** : color or sequence of color (optional) , c uses the colormap function to map single value to a color\n",
    "\n",
    "**alpha**: The alpha blending value, between 0 (transparent) and 1 (opaque)\n"
   ]
  },
  {
   "cell_type": "code",
   "execution_count": null,
   "metadata": {
    "collapsed": false
   },
   "outputs": [],
   "source": [
    "# Scatter plot of gausian random varaibale\n",
    "x = range(100)\n",
    "y = np.random.randn(100)"
   ]
  },
  {
   "cell_type": "code",
   "execution_count": null,
   "metadata": {
    "collapsed": false
   },
   "outputs": [],
   "source": [
    "plt.title(\"The Scatter Plot\")\n",
    "plt.ylabel(\"y-axis\")\n",
    "plt.xlabel(\"x-axis\")\n",
    "plt.scatter(x, y,  s=75,label=\"Random1\", marker=\"o\", c=\"g\")"
   ]
  },
  {
   "cell_type": "markdown",
   "metadata": {},
   "source": [
    "## Save figure to image file\n",
    "\n",
    "Matplotlib can save plots directly to a file using **savefig()**. The method can be used like this:\n",
    "```python\n",
    "plt.savefig('plot.png')\n",
    "```\n",
    "To change the format, simply change the extension like so:\n",
    "\n",
    "```python\n",
    "plt.savefig('plot.pdf')\n",
    "```"
   ]
  },
  {
   "cell_type": "code",
   "execution_count": null,
   "metadata": {
    "collapsed": false
   },
   "outputs": [],
   "source": [
    "#Plot\n",
    "fig, ax = plt.subplots()\n",
    "bar_width = 0.35\n",
    "ax1 = plt.bar(postion, male_marks, bar_width, color='b',label='Male')\n",
    "ax2 = plt.bar(postion + bar_width, female_marks, bar_width, color='g',label='Female')\n",
    "plt.xlabel('Subjects')\n",
    "plt.ylabel('Average Scores')\n",
    "plt.title('Average Scores by Gender')\n",
    "plt.xticks(postion+ bar_width, Subject)\n",
    "plt.legend()\n",
    "plt.savefig('image/bar1.pdf')"
   ]
  },
  {
   "cell_type": "markdown",
   "metadata": {},
   "source": [
    "## A publication-quality figure\n",
    "We first play with the parameters to get the size right:"
   ]
  },
  {
   "cell_type": "code",
   "execution_count": null,
   "metadata": {
    "collapsed": true
   },
   "outputs": [],
   "source": [
    "\n",
    "from pylab import rcParams"
   ]
  },
  {
   "cell_type": "code",
   "execution_count": null,
   "metadata": {
    "collapsed": false
   },
   "outputs": [],
   "source": [
    "\n",
    "params = {\n",
    "   'axes.labelsize': 8,\n",
    "   'text.latex.preamble': ['\\\\usepackage{gensymb}'],\n",
    "   'font.size': 10,\n",
    "    'axes.labelsize': 10, # fontsize for x and y labels (was 10)\n",
    "    'axes.titlesize': 12,\n",
    "   'legend.fontsize': 8,\n",
    "   'xtick.labelsize': 10,\n",
    "   'ytick.labelsize': 10,\n",
    "   'text.usetex': True,\n",
    "   'figure.figsize': [4.5, 4.5],\n",
    "    'font.family': 'serif'\n",
    "   }\n",
    "rcParams.update(params)"
   ]
  },
  {
   "cell_type": "markdown",
   "metadata": {},
   "source": [
    "The exact size of the image is not an issue since we exporting vector format image: a **pdf** or an **eps** (for LaTeX). \n",
    "\n",
    "However, we care about the ratio (length/width). Moreover, changing the size of the figure will affect the relative size of the fonts.\n",
    "\n",
    "As a rule of thumb, the font size of your labels should be close to the font size of the figure's caption."
   ]
  },
  {
   "cell_type": "code",
   "execution_count": null,
   "metadata": {
    "collapsed": true
   },
   "outputs": [],
   "source": [
    "# Data\n",
    "Subject=['Math','Biology','Chemistry','Physics']\n",
    "num_subject = len(Subject)\n",
    "postion = np.arange(num_subject)\n",
    "male_marks =[55,70,60,69]\n",
    "female_marks =[45,65,78,51]"
   ]
  },
  {
   "cell_type": "code",
   "execution_count": null,
   "metadata": {
    "collapsed": false
   },
   "outputs": [],
   "source": [
    "#Plot\n",
    "\n",
    "bar_width = 0.35\n",
    "plt.bar(postion, male_marks, bar_width, color='#3E230D',label='Male')\n",
    "plt.bar(postion + bar_width, female_marks, bar_width, color='#E88C0C',label='Female')\n",
    "plt.xlabel('Subjects')\n",
    "plt.ylabel('Average Scores')\n",
    "plt.title('Average Scores by Gender')\n",
    "plt.xticks(postion+ bar_width, Subject)\n",
    "plt.legend()\n",
    "plt.savefig('image/bar2.pdf')"
   ]
  },
  {
   "cell_type": "markdown",
   "metadata": {},
   "source": [
    "## Let control the figure size for quality figure"
   ]
  },
  {
   "cell_type": "code",
   "execution_count": null,
   "metadata": {
    "collapsed": false
   },
   "outputs": [],
   "source": [
    "from math import sqrt\n",
    "fig_width = 3.39\n",
    "golden_mean = (sqrt(5)-1.0)/2.0    # Aesthetic ratio\n",
    "fig_height = fig_width*golden_mean # height in inches\n",
    "\n",
    "params = {\n",
    "   'axes.labelsize': 8,\n",
    "   'text.latex.preamble': ['\\\\usepackage{gensymb}'],\n",
    "   'font.size': 8,\n",
    "    'axes.labelsize': 8, # fontsize for x and y labels (was 10)\n",
    "    'axes.titlesize': 10,\n",
    "   'legend.fontsize': 8,\n",
    "   'xtick.labelsize': 10,\n",
    "   'ytick.labelsize': 10,\n",
    "   'text.usetex': True,\n",
    "   'figure.figsize': [fig_width,fig_height],\n",
    "    'font.family': 'serif'\n",
    "   }\n",
    "rcParams.update(params)"
   ]
  },
  {
   "cell_type": "code",
   "execution_count": null,
   "metadata": {
    "collapsed": false
   },
   "outputs": [],
   "source": [
    "#Plot\n",
    "\n",
    "bar_width = 0.35\n",
    "plt.bar(postion, male_marks, bar_width, color='#595959',label='Male')\n",
    "plt.bar(postion + bar_width, female_marks, bar_width, color='#0F0501',label='Female')\n",
    "plt.xlabel('Subjects')\n",
    "plt.ylabel('Average Scores')\n",
    "plt.title('Average Scores by Gender')\n",
    "plt.xticks(postion+ bar_width, Subject)\n",
    "plt.legend()\n",
    "plt.savefig('image/bar3.png')"
   ]
  },
  {
   "cell_type": "code",
   "execution_count": null,
   "metadata": {
    "collapsed": true
   },
   "outputs": [],
   "source": []
  }
 ],
 "metadata": {
  "kernelspec": {
   "display_name": "Python 3",
   "language": "python",
   "name": "python3"
  },
  "language_info": {
   "codemirror_mode": {
    "name": "ipython",
    "version": 3
   },
   "file_extension": ".py",
   "mimetype": "text/x-python",
   "name": "python",
   "nbconvert_exporter": "python",
   "pygments_lexer": "ipython3",
   "version": "3.6.0"
  }
 },
 "nbformat": 4,
 "nbformat_minor": 2
}
