{
 "cells": [
  {
   "cell_type": "code",
   "execution_count": null,
   "metadata": {
    "collapsed": true
   },
   "outputs": [],
   "source": [
    "import numpy as np\n",
    "import pandas as pd\n",
    "import matplotlib.pyplot as plt\n",
    "from pylab import rcParams\n",
    "from math import sqrt\n",
    "%matplotlib inline\n",
    "np.set_printoptions(precision=3)\n",
    "fig_width = 6.9\n",
    "golden_mean = (sqrt(5)-1.0)/2.0    # Aesthetic ratio\n",
    "fig_height = fig_width*golden_mean # height in inches\n",
    "\n",
    "params = {\n",
    "   'axes.labelsize': 8,\n",
    "   'text.latex.preamble': ['\\\\usepackage{gensymb}'],\n",
    "   'font.size': 10,\n",
    "    'axes.labelsize': 10, # fontsize for x and y labels (was 10)\n",
    "    'axes.titlesize': 12,\n",
    "   'legend.fontsize': 8,\n",
    "   'xtick.labelsize': 10,\n",
    "   'ytick.labelsize': 10,\n",
    "   'text.usetex': True,\n",
    "   'figure.figsize': [fig_width,fig_height],\n",
    "    'font.family': 'serif'\n",
    "   }\n",
    "rcParams.update(params)\n"
   ]
  },
  {
   "cell_type": "markdown",
   "metadata": {},
   "source": [
    "# Introducing Scikit-Learn\n",
    "\n"
   ]
  },
  {
   "cell_type": "markdown",
   "metadata": {},
   "source": [
    "## Data Representation in Scikit-Learn\n",
    "\n",
    "The best way to think about data within Scikit-Learn is in terms of tables of data. Consider the Cities data set below."
   ]
  },
  {
   "cell_type": "code",
   "execution_count": null,
   "metadata": {
    "collapsed": false
   },
   "outputs": [],
   "source": [
    "data = pd.read_csv('Data/Cities.csv')\n",
    "data.head()"
   ]
  },
  {
   "cell_type": "markdown",
   "metadata": {},
   "source": [
    "Here each row of the data refers to a single observed city, and the number of rows is the total number of city in the dataset. In general, we will refer to the rows of the matrix as samples, and the number of rows as $n_{samples}$."
   ]
  },
  {
   "cell_type": "markdown",
   "metadata": {},
   "source": [
    "Likewise, each column of the data refers to a particular quantitative piece of information that describes each sample. In general, we will refer to the columns of the matrix as features, and the number of columns as $n_{features}$."
   ]
  },
  {
   "cell_type": "markdown",
   "metadata": {},
   "source": [
    "### Features matrix\n",
    "\n",
    "A two-dimensional numerical array or matrix with shape [$n_{samples}$, $n_{features}$]. By convention, this features matrix is often stored in a variable named $X$.\n",
    "\n",
    "The samples (i.e., rows) always refer to the individual objects described by the dataset\n",
    "\n",
    "The features (i.e., columns) always refer to the distinct observations that describe each sample."
   ]
  },
  {
   "cell_type": "markdown",
   "metadata": {},
   "source": [
    "### Target array\n",
    "\n",
    "One dimensional, with length $n_{samples}$ usually the quantity we want to predict from the data"
   ]
  },
  {
   "cell_type": "markdown",
   "metadata": {},
   "source": [
    "## Scikit-Learn's Estimator API\n",
    "\n",
    "Every machine learning algorithm in Scikit-Learn is implemented via the Estimator API, which provides a consistent interface for a wide range of machine learning applications.\n",
    "\n",
    "The steps in using the Scikit-Learn estimator API are as follows:\n",
    "\n",
    "1. Choose a class of model by importing the appropriate estimator class from Scikit-Learn.\n",
    "2. Choose model hyperparameters by instantiating this class with desired values.\n",
    "   * Hyper-parameters are parameters that are not directly learnt within estimators. In scikit-learn they are passed as arguments the estimator classes.\n",
    "3. Arrange data into a features matrix and target vector following the discussion above.\n",
    "4. Fit the model to your data by calling the **fit()** method of the model instance.\n",
    "5. Apply the Model to new data:\n",
    "  * For supervised learning, often we predict labels for unknown data using the **predict()** method.\n",
    "  * For unsupervised learning, we often transform or infer properties of the data using the **transform()** or **predict()** method.\n",
    "  \n",
    "Let us apply this step in the following example  \n"
   ]
  },
  {
   "cell_type": "markdown",
   "metadata": {},
   "source": [
    "### Supervised learning: Simple linear regression"
   ]
  },
  {
   "cell_type": "markdown",
   "metadata": {},
   "source": [
    "In regression, we are interested in predicting a scalar-valued target, such as the price of a stock. By linear, we mean that the target must be predicted as a linear function of the inputs.\n",
    "\n",
    "We will use the Cities dataset and our target is to predict city temperature given its latitude."
   ]
  },
  {
   "cell_type": "markdown",
   "metadata": {},
   "source": [
    "### 1. Let Choose a class of model\n",
    "\n",
    "Import  the linear regression class:"
   ]
  },
  {
   "cell_type": "code",
   "execution_count": null,
   "metadata": {
    "collapsed": true
   },
   "outputs": [],
   "source": [
    "from sklearn.linear_model import LinearRegression"
   ]
  },
  {
   "cell_type": "markdown",
   "metadata": {},
   "source": [
    "**Note** more general linear regression models exist as well follow this [link](http://scikit-learn.org/stable/modules/linear_model.html)"
   ]
  },
  {
   "cell_type": "markdown",
   "metadata": {},
   "source": [
    "### 2. Choose model hyperparameters\n",
    "\n",
    "This step involve defining the model with its associated parameters"
   ]
  },
  {
   "cell_type": "code",
   "execution_count": null,
   "metadata": {
    "collapsed": true
   },
   "outputs": [],
   "source": [
    "model = LinearRegression()"
   ]
  },
  {
   "cell_type": "markdown",
   "metadata": {},
   "source": [
    "### 3. Arrange data into a features matrix and target vector\n",
    "\n",
    "Here our target variable y is already tempearture and the feature matrix is latitude."
   ]
  },
  {
   "cell_type": "code",
   "execution_count": null,
   "metadata": {
    "collapsed": true
   },
   "outputs": [],
   "source": [
    "y = data.temperature"
   ]
  },
  {
   "cell_type": "code",
   "execution_count": null,
   "metadata": {
    "collapsed": false
   },
   "outputs": [],
   "source": [
    "# check the shape of target\n",
    "y.shape"
   ]
  },
  {
   "cell_type": "markdown",
   "metadata": {},
   "source": [
    "Our target variable y is already in the correct form: a 1-dimensional array"
   ]
  },
  {
   "cell_type": "code",
   "execution_count": null,
   "metadata": {
    "collapsed": true
   },
   "outputs": [],
   "source": [
    "# feature matrix\n",
    "X = data.latitude"
   ]
  },
  {
   "cell_type": "code",
   "execution_count": null,
   "metadata": {
    "collapsed": false
   },
   "outputs": [],
   "source": [
    "# check shape of X\n",
    "X.shape"
   ]
  },
  {
   "cell_type": "markdown",
   "metadata": {},
   "source": [
    "We therefore need to massage the data X to make it a matrix of size [n_samples, n_features]"
   ]
  },
  {
   "cell_type": "code",
   "execution_count": null,
   "metadata": {
    "collapsed": false
   },
   "outputs": [],
   "source": [
    "#  convert the 1-dimensional X  array into an X array with 2 axes\n",
    "X = X[:, np.newaxis]\n",
    "X.shape"
   ]
  },
  {
   "cell_type": "markdown",
   "metadata": {},
   "source": [
    "### 4. Fit the model to your data\n",
    "\n",
    "Now it is time to apply our model to data. This can be done with the fit() method of the model:"
   ]
  },
  {
   "cell_type": "code",
   "execution_count": null,
   "metadata": {
    "collapsed": false
   },
   "outputs": [],
   "source": [
    "# fit the model\n",
    "model.fit(X,y)"
   ]
  },
  {
   "cell_type": "markdown",
   "metadata": {},
   "source": [
    "This fit() command causes a number of model-dependent internal computations to take place, and the results of these computations are stored in model-specific attributes that the user can explore."
   ]
  },
  {
   "cell_type": "code",
   "execution_count": null,
   "metadata": {
    "collapsed": false
   },
   "outputs": [],
   "source": [
    "print('Weight coefficients: ', model.coef_)\n",
    "print('y-axis intercept: ', model.intercept_)"
   ]
  },
  {
   "cell_type": "markdown",
   "metadata": {},
   "source": [
    "### 5 Predict labels for unknown data\n",
    "Once the model is trained, the main task of supervised machine learning is to evaluate it based on what it says about new data.\n",
    "\n",
    "For the sake of this example, our \"new data\" will be a grid of X values, and we will ask what y values the model predicts:\n",
    "\n",
    "Let select the last ten city and use our model to predict their temperature."
   ]
  },
  {
   "cell_type": "code",
   "execution_count": null,
   "metadata": {
    "collapsed": false
   },
   "outputs": [],
   "source": [
    "xval = data.tail(10).latitude\n",
    "xval.shape"
   ]
  },
  {
   "cell_type": "markdown",
   "metadata": {},
   "source": [
    "As before, we need to coerce these X values into a [n_samples, n_features] features matrix."
   ]
  },
  {
   "cell_type": "code",
   "execution_count": null,
   "metadata": {
    "collapsed": false
   },
   "outputs": [],
   "source": [
    "xval = xval[:, np.newaxis]\n",
    "xval"
   ]
  },
  {
   "cell_type": "code",
   "execution_count": null,
   "metadata": {
    "collapsed": true
   },
   "outputs": [],
   "source": [
    "y_pred = model.predict(xval)"
   ]
  },
  {
   "cell_type": "markdown",
   "metadata": {},
   "source": [
    "Let visulaize the actual values vs predicted values"
   ]
  },
  {
   "cell_type": "code",
   "execution_count": null,
   "metadata": {
    "collapsed": false
   },
   "outputs": [],
   "source": [
    "y_actual = data.tail(10).temperature"
   ]
  },
  {
   "cell_type": "code",
   "execution_count": null,
   "metadata": {
    "collapsed": false
   },
   "outputs": [],
   "source": [
    "plot_name = \"ML_regression\"\n",
    "plt.scatter(xval, y_actual, label=\"data\")\n",
    "plt.scatter(xval, y_pred, label=\"prediction\")\n",
    "plt.plot(xval,y_pred, c='red',label='fit')\n",
    "plt.legend(loc='best')\n",
    "plt.title('Model Visualization')\n",
    "plt.xlabel('City Latitude')\n",
    "plt.ylabel('City Temperature')\n",
    "plt.savefig('image/%s.pdf' %(plot_name), format='pdf')"
   ]
  },
  {
   "cell_type": "markdown",
   "metadata": {},
   "source": [
    "## Supervised learning example: Player classification.\n",
    "\n",
    "Our question will be this: given a model trained on a portion of the player data, Predict player position from one or more of minutes, shots, passes, tackles, saves.\n",
    "\n",
    "For this task, we will use an extremely simple logistic regression.\n",
    "\n",
    "We would like to evaluate the model on data it has not seen before, and so we will split the data into a training set and a testing set. \n",
    "\n",
    "This could be done by hand, but it is more convenient to use the **train_test_split utility** function:"
   ]
  },
  {
   "cell_type": "markdown",
   "metadata": {},
   "source": [
    "### Prepare Data"
   ]
  },
  {
   "cell_type": "code",
   "execution_count": null,
   "metadata": {
    "collapsed": false
   },
   "outputs": [],
   "source": [
    "data = pd.read_csv('Data/Players.csv')\n",
    "data.head()"
   ]
  },
  {
   "cell_type": "code",
   "execution_count": null,
   "metadata": {
    "collapsed": true
   },
   "outputs": [],
   "source": [
    "features = ['minutes', 'shots', 'passes', 'tackles', 'saves']"
   ]
  },
  {
   "cell_type": "code",
   "execution_count": null,
   "metadata": {
    "collapsed": false
   },
   "outputs": [],
   "source": [
    "X = data[features]\n",
    "y = data.position"
   ]
  },
  {
   "cell_type": "markdown",
   "metadata": {},
   "source": [
    "Separate the dataset into to separate sets, using 75% of the instances for training our classifier, and the remaining 25% for evaluating it"
   ]
  },
  {
   "cell_type": "code",
   "execution_count": null,
   "metadata": {
    "collapsed": true
   },
   "outputs": [],
   "source": [
    "from sklearn.model_selection import train_test_split\n",
    "\n",
    "X_train, X_test, y_train, y_test = train_test_split(X, y, test_size=0.25, random_state=42)"
   ]
  },
  {
   "cell_type": "markdown",
   "metadata": {},
   "source": [
    "With the data arranged, we can follow our recipe to predict the labels:"
   ]
  },
  {
   "cell_type": "code",
   "execution_count": null,
   "metadata": {
    "collapsed": false
   },
   "outputs": [],
   "source": [
    "from sklearn.linear_model import LogisticRegression   # 1. choose model class\n",
    "model = LogisticRegression()               # 2. instantiate model\n",
    "model.fit(X_train, y_train)                           # 3. fit model to data\n",
    "y_pred = model.predict(X_test)                        # 4. predict on new data"
   ]
  },
  {
   "cell_type": "markdown",
   "metadata": {},
   "source": [
    "Finally, we can use the accuracy_score utility to see the fraction of predicted labels that match their true value:"
   ]
  },
  {
   "cell_type": "code",
   "execution_count": null,
   "metadata": {
    "collapsed": false
   },
   "outputs": [],
   "source": [
    "from sklearn.metrics import accuracy_score\n",
    "accuracy_score(y_test, y_pred)"
   ]
  },
  {
   "cell_type": "markdown",
   "metadata": {},
   "source": [
    "Thus our model achieve a test accuracy of $61\\%$."
   ]
  },
  {
   "cell_type": "markdown",
   "metadata": {},
   "source": [
    "# <font color=\"red\">Exercise: World Cup Data</font>\n",
    "\n",
    "1. From the players data, compute and plot a linear regression for minutes played (x-axis) versus passes made (y-axis).\n",
    "2. Use linear regression for interactive number-of-passes predictor Training data: predicted the passes  players from  Greece, USA, and Portugal"
   ]
  },
  {
   "cell_type": "code",
   "execution_count": null,
   "metadata": {
    "collapsed": true
   },
   "outputs": [],
   "source": []
  }
 ],
 "metadata": {
  "kernelspec": {
   "display_name": "Python 3",
   "language": "python",
   "name": "python3"
  },
  "language_info": {
   "codemirror_mode": {
    "name": "ipython",
    "version": 3
   },
   "file_extension": ".py",
   "mimetype": "text/x-python",
   "name": "python",
   "nbconvert_exporter": "python",
   "pygments_lexer": "ipython3",
   "version": "3.6.0"
  }
 },
 "nbformat": 4,
 "nbformat_minor": 2
}
